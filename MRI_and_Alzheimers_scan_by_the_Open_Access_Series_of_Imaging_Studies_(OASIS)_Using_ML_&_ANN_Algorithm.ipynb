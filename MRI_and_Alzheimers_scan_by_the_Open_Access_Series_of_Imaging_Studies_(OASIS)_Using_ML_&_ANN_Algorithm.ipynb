{
  "nbformat": 4,
  "nbformat_minor": 0,
  "metadata": {
    "colab": {
      "name": "MRI and Alzheimers scan by the  Open Access Series of Imaging Studies (OASIS) Using ML & ANN Algorithm",
      "provenance": [],
      "collapsed_sections": []
    },
    "kernelspec": {
      "name": "python3",
      "display_name": "Python 3"
    }
  },
  "cells": [
    {
      "cell_type": "code",
      "metadata": {
        "id": "E0a8__qtvIpC",
        "colab_type": "code",
        "colab": {
          "resources": {
            "http://localhost:8080/nbextensions/google.colab/files.js": {
              "data": "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",
              "ok": true,
              "headers": [
                [
                  "content-type",
                  "application/javascript"
                ]
              ],
              "status": 200,
              "status_text": ""
            }
          },
          "base_uri": "https://localhost:8080/",
          "height": 73
        },
        "outputId": "3e83d9ca-53d0-49e0-d4d1-fe8b2471d0fe"
      },
      "source": [
        "from google.colab import files\n",
        "data_to_load = files.upload()"
      ],
      "execution_count": 1,
      "outputs": [
        {
          "output_type": "display_data",
          "data": {
            "text/html": [
              "\n",
              "     <input type=\"file\" id=\"files-3ca017d3-114f-4e71-818a-01f469dfa6ff\" name=\"files[]\" multiple disabled\n",
              "        style=\"border:none\" />\n",
              "     <output id=\"result-3ca017d3-114f-4e71-818a-01f469dfa6ff\">\n",
              "      Upload widget is only available when the cell has been executed in the\n",
              "      current browser session. Please rerun this cell to enable.\n",
              "      </output>\n",
              "      <script src=\"/nbextensions/google.colab/files.js\"></script> "
            ],
            "text/plain": [
              "<IPython.core.display.HTML object>"
            ]
          },
          "metadata": {
            "tags": []
          }
        },
        {
          "output_type": "stream",
          "text": [
            "Saving datasets_1980_3398_oasis_longitudinal.csv to datasets_1980_3398_oasis_longitudinal (2).csv\n"
          ],
          "name": "stdout"
        }
      ]
    },
    {
      "cell_type": "code",
      "metadata": {
        "id": "YSSauglhwf7z",
        "colab_type": "code",
        "colab": {}
      },
      "source": [
        "#Magnetic Resonance Imaging Comparisons of Demented and Nondemented Adults\n",
        "#MRI and Alzheimers scan by the  Open Access Series of Imaging Studies (OASIS)df.corr()\n"
      ],
      "execution_count": 2,
      "outputs": []
    },
    {
      "cell_type": "code",
      "metadata": {
        "id": "8pOcU5ThvLV_",
        "colab_type": "code",
        "colab": {}
      },
      "source": [
        "#Machine Learning Algorithm(Decision Tree,Support Vector Machine,Random forest, XGBoost Classifier, Logistic Regression, KNN)\n",
        "#Deep learning -> Artificial Nueral Networks(ANN)"
      ],
      "execution_count": 3,
      "outputs": []
    },
    {
      "cell_type": "code",
      "metadata": {
        "id": "vKVn6CYcvaw5",
        "colab_type": "code",
        "colab": {}
      },
      "source": [
        "import numpy as np # linear algebra\n",
        "import pandas as pd # data processing, CSV file I/O (e.g. pd.read_csv)\n",
        "\n",
        "# Input data files are available in the read-only \"../input/\" directory\n",
        "# For example, running this (by clicking run or pressing Shift+Enter) will list all files under the input directory\n",
        "\n",
        "import matplotlib.pyplot as plt\n",
        "import numpy as np\n",
        "%matplotlib inline\n",
        "import os"
      ],
      "execution_count": 4,
      "outputs": []
    },
    {
      "cell_type": "code",
      "metadata": {
        "id": "oqFVSEdgvdCR",
        "colab_type": "code",
        "colab": {}
      },
      "source": [
        "df=pd.read_csv('datasets_1980_3398_oasis_longitudinal (1).csv')"
      ],
      "execution_count": 5,
      "outputs": []
    },
    {
      "cell_type": "code",
      "metadata": {
        "id": "Aco8JY78vi4h",
        "colab_type": "code",
        "colab": {
          "base_uri": "https://localhost:8080/",
          "height": 67
        },
        "outputId": "63ca94cb-5b37-463e-b52f-b27240848f5c"
      },
      "source": [
        "df.keys()"
      ],
      "execution_count": 6,
      "outputs": [
        {
          "output_type": "execute_result",
          "data": {
            "text/plain": [
              "Index(['Subject ID', 'MRI ID', 'Group', 'Visit', 'MR Delay', 'M/F', 'Hand',\n",
              "       'Age', 'EDUC', 'SES', 'MMSE', 'CDR', 'eTIV', 'nWBV', 'ASF'],\n",
              "      dtype='object')"
            ]
          },
          "metadata": {
            "tags": []
          },
          "execution_count": 6
        }
      ]
    },
    {
      "cell_type": "code",
      "metadata": {
        "id": "7qlc7J-MvlZx",
        "colab_type": "code",
        "colab": {
          "base_uri": "https://localhost:8080/",
          "height": 345
        },
        "outputId": "1cde7350-e435-4afc-b0ee-41d8478248ff"
      },
      "source": [
        "df.head(n=10)"
      ],
      "execution_count": 7,
      "outputs": [
        {
          "output_type": "execute_result",
          "data": {
            "text/html": [
              "<div>\n",
              "<style scoped>\n",
              "    .dataframe tbody tr th:only-of-type {\n",
              "        vertical-align: middle;\n",
              "    }\n",
              "\n",
              "    .dataframe tbody tr th {\n",
              "        vertical-align: top;\n",
              "    }\n",
              "\n",
              "    .dataframe thead th {\n",
              "        text-align: right;\n",
              "    }\n",
              "</style>\n",
              "<table border=\"1\" class=\"dataframe\">\n",
              "  <thead>\n",
              "    <tr style=\"text-align: right;\">\n",
              "      <th></th>\n",
              "      <th>Subject ID</th>\n",
              "      <th>MRI ID</th>\n",
              "      <th>Group</th>\n",
              "      <th>Visit</th>\n",
              "      <th>MR Delay</th>\n",
              "      <th>M/F</th>\n",
              "      <th>Hand</th>\n",
              "      <th>Age</th>\n",
              "      <th>EDUC</th>\n",
              "      <th>SES</th>\n",
              "      <th>MMSE</th>\n",
              "      <th>CDR</th>\n",
              "      <th>eTIV</th>\n",
              "      <th>nWBV</th>\n",
              "      <th>ASF</th>\n",
              "    </tr>\n",
              "  </thead>\n",
              "  <tbody>\n",
              "    <tr>\n",
              "      <th>0</th>\n",
              "      <td>OAS2_0001</td>\n",
              "      <td>OAS2_0001_MR1</td>\n",
              "      <td>Nondemented</td>\n",
              "      <td>1</td>\n",
              "      <td>0</td>\n",
              "      <td>M</td>\n",
              "      <td>R</td>\n",
              "      <td>87</td>\n",
              "      <td>14</td>\n",
              "      <td>2.0</td>\n",
              "      <td>27.0</td>\n",
              "      <td>0.0</td>\n",
              "      <td>1987</td>\n",
              "      <td>0.696</td>\n",
              "      <td>0.883</td>\n",
              "    </tr>\n",
              "    <tr>\n",
              "      <th>1</th>\n",
              "      <td>OAS2_0001</td>\n",
              "      <td>OAS2_0001_MR2</td>\n",
              "      <td>Nondemented</td>\n",
              "      <td>2</td>\n",
              "      <td>457</td>\n",
              "      <td>M</td>\n",
              "      <td>R</td>\n",
              "      <td>88</td>\n",
              "      <td>14</td>\n",
              "      <td>2.0</td>\n",
              "      <td>30.0</td>\n",
              "      <td>0.0</td>\n",
              "      <td>2004</td>\n",
              "      <td>0.681</td>\n",
              "      <td>0.876</td>\n",
              "    </tr>\n",
              "    <tr>\n",
              "      <th>2</th>\n",
              "      <td>OAS2_0002</td>\n",
              "      <td>OAS2_0002_MR1</td>\n",
              "      <td>Demented</td>\n",
              "      <td>1</td>\n",
              "      <td>0</td>\n",
              "      <td>M</td>\n",
              "      <td>R</td>\n",
              "      <td>75</td>\n",
              "      <td>12</td>\n",
              "      <td>NaN</td>\n",
              "      <td>23.0</td>\n",
              "      <td>0.5</td>\n",
              "      <td>1678</td>\n",
              "      <td>0.736</td>\n",
              "      <td>1.046</td>\n",
              "    </tr>\n",
              "    <tr>\n",
              "      <th>3</th>\n",
              "      <td>OAS2_0002</td>\n",
              "      <td>OAS2_0002_MR2</td>\n",
              "      <td>Demented</td>\n",
              "      <td>2</td>\n",
              "      <td>560</td>\n",
              "      <td>M</td>\n",
              "      <td>R</td>\n",
              "      <td>76</td>\n",
              "      <td>12</td>\n",
              "      <td>NaN</td>\n",
              "      <td>28.0</td>\n",
              "      <td>0.5</td>\n",
              "      <td>1738</td>\n",
              "      <td>0.713</td>\n",
              "      <td>1.010</td>\n",
              "    </tr>\n",
              "    <tr>\n",
              "      <th>4</th>\n",
              "      <td>OAS2_0002</td>\n",
              "      <td>OAS2_0002_MR3</td>\n",
              "      <td>Demented</td>\n",
              "      <td>3</td>\n",
              "      <td>1895</td>\n",
              "      <td>M</td>\n",
              "      <td>R</td>\n",
              "      <td>80</td>\n",
              "      <td>12</td>\n",
              "      <td>NaN</td>\n",
              "      <td>22.0</td>\n",
              "      <td>0.5</td>\n",
              "      <td>1698</td>\n",
              "      <td>0.701</td>\n",
              "      <td>1.034</td>\n",
              "    </tr>\n",
              "    <tr>\n",
              "      <th>5</th>\n",
              "      <td>OAS2_0004</td>\n",
              "      <td>OAS2_0004_MR1</td>\n",
              "      <td>Nondemented</td>\n",
              "      <td>1</td>\n",
              "      <td>0</td>\n",
              "      <td>F</td>\n",
              "      <td>R</td>\n",
              "      <td>88</td>\n",
              "      <td>18</td>\n",
              "      <td>3.0</td>\n",
              "      <td>28.0</td>\n",
              "      <td>0.0</td>\n",
              "      <td>1215</td>\n",
              "      <td>0.710</td>\n",
              "      <td>1.444</td>\n",
              "    </tr>\n",
              "    <tr>\n",
              "      <th>6</th>\n",
              "      <td>OAS2_0004</td>\n",
              "      <td>OAS2_0004_MR2</td>\n",
              "      <td>Nondemented</td>\n",
              "      <td>2</td>\n",
              "      <td>538</td>\n",
              "      <td>F</td>\n",
              "      <td>R</td>\n",
              "      <td>90</td>\n",
              "      <td>18</td>\n",
              "      <td>3.0</td>\n",
              "      <td>27.0</td>\n",
              "      <td>0.0</td>\n",
              "      <td>1200</td>\n",
              "      <td>0.718</td>\n",
              "      <td>1.462</td>\n",
              "    </tr>\n",
              "    <tr>\n",
              "      <th>7</th>\n",
              "      <td>OAS2_0005</td>\n",
              "      <td>OAS2_0005_MR1</td>\n",
              "      <td>Nondemented</td>\n",
              "      <td>1</td>\n",
              "      <td>0</td>\n",
              "      <td>M</td>\n",
              "      <td>R</td>\n",
              "      <td>80</td>\n",
              "      <td>12</td>\n",
              "      <td>4.0</td>\n",
              "      <td>28.0</td>\n",
              "      <td>0.0</td>\n",
              "      <td>1689</td>\n",
              "      <td>0.712</td>\n",
              "      <td>1.039</td>\n",
              "    </tr>\n",
              "    <tr>\n",
              "      <th>8</th>\n",
              "      <td>OAS2_0005</td>\n",
              "      <td>OAS2_0005_MR2</td>\n",
              "      <td>Nondemented</td>\n",
              "      <td>2</td>\n",
              "      <td>1010</td>\n",
              "      <td>M</td>\n",
              "      <td>R</td>\n",
              "      <td>83</td>\n",
              "      <td>12</td>\n",
              "      <td>4.0</td>\n",
              "      <td>29.0</td>\n",
              "      <td>0.5</td>\n",
              "      <td>1701</td>\n",
              "      <td>0.711</td>\n",
              "      <td>1.032</td>\n",
              "    </tr>\n",
              "    <tr>\n",
              "      <th>9</th>\n",
              "      <td>OAS2_0005</td>\n",
              "      <td>OAS2_0005_MR3</td>\n",
              "      <td>Nondemented</td>\n",
              "      <td>3</td>\n",
              "      <td>1603</td>\n",
              "      <td>M</td>\n",
              "      <td>R</td>\n",
              "      <td>85</td>\n",
              "      <td>12</td>\n",
              "      <td>4.0</td>\n",
              "      <td>30.0</td>\n",
              "      <td>0.0</td>\n",
              "      <td>1699</td>\n",
              "      <td>0.705</td>\n",
              "      <td>1.033</td>\n",
              "    </tr>\n",
              "  </tbody>\n",
              "</table>\n",
              "</div>"
            ],
            "text/plain": [
              "  Subject ID         MRI ID        Group  Visit  ...  CDR  eTIV   nWBV    ASF\n",
              "0  OAS2_0001  OAS2_0001_MR1  Nondemented      1  ...  0.0  1987  0.696  0.883\n",
              "1  OAS2_0001  OAS2_0001_MR2  Nondemented      2  ...  0.0  2004  0.681  0.876\n",
              "2  OAS2_0002  OAS2_0002_MR1     Demented      1  ...  0.5  1678  0.736  1.046\n",
              "3  OAS2_0002  OAS2_0002_MR2     Demented      2  ...  0.5  1738  0.713  1.010\n",
              "4  OAS2_0002  OAS2_0002_MR3     Demented      3  ...  0.5  1698  0.701  1.034\n",
              "5  OAS2_0004  OAS2_0004_MR1  Nondemented      1  ...  0.0  1215  0.710  1.444\n",
              "6  OAS2_0004  OAS2_0004_MR2  Nondemented      2  ...  0.0  1200  0.718  1.462\n",
              "7  OAS2_0005  OAS2_0005_MR1  Nondemented      1  ...  0.0  1689  0.712  1.039\n",
              "8  OAS2_0005  OAS2_0005_MR2  Nondemented      2  ...  0.5  1701  0.711  1.032\n",
              "9  OAS2_0005  OAS2_0005_MR3  Nondemented      3  ...  0.0  1699  0.705  1.033\n",
              "\n",
              "[10 rows x 15 columns]"
            ]
          },
          "metadata": {
            "tags": []
          },
          "execution_count": 7
        }
      ]
    },
    {
      "cell_type": "code",
      "metadata": {
        "id": "Pr1beeNyvsBx",
        "colab_type": "code",
        "colab": {}
      },
      "source": [
        ""
      ],
      "execution_count": 7,
      "outputs": []
    },
    {
      "cell_type": "code",
      "metadata": {
        "id": "6GPQZoaav41p",
        "colab_type": "code",
        "colab": {
          "base_uri": "https://localhost:8080/",
          "height": 385
        },
        "outputId": "6c47052a-b071-456f-b49c-d48964736208"
      },
      "source": [
        "df.info()"
      ],
      "execution_count": 8,
      "outputs": [
        {
          "output_type": "stream",
          "text": [
            "<class 'pandas.core.frame.DataFrame'>\n",
            "RangeIndex: 373 entries, 0 to 372\n",
            "Data columns (total 15 columns):\n",
            " #   Column      Non-Null Count  Dtype  \n",
            "---  ------      --------------  -----  \n",
            " 0   Subject ID  373 non-null    object \n",
            " 1   MRI ID      373 non-null    object \n",
            " 2   Group       373 non-null    object \n",
            " 3   Visit       373 non-null    int64  \n",
            " 4   MR Delay    373 non-null    int64  \n",
            " 5   M/F         373 non-null    object \n",
            " 6   Hand        373 non-null    object \n",
            " 7   Age         373 non-null    int64  \n",
            " 8   EDUC        373 non-null    int64  \n",
            " 9   SES         354 non-null    float64\n",
            " 10  MMSE        371 non-null    float64\n",
            " 11  CDR         373 non-null    float64\n",
            " 12  eTIV        373 non-null    int64  \n",
            " 13  nWBV        373 non-null    float64\n",
            " 14  ASF         373 non-null    float64\n",
            "dtypes: float64(5), int64(5), object(5)\n",
            "memory usage: 43.8+ KB\n"
          ],
          "name": "stdout"
        }
      ]
    },
    {
      "cell_type": "code",
      "metadata": {
        "id": "cbxnAQQ-wCgJ",
        "colab_type": "code",
        "colab": {
          "base_uri": "https://localhost:8080/",
          "height": 345
        },
        "outputId": "32d264c4-8958-473c-bc50-6535cde72a83"
      },
      "source": [
        "df.corr()"
      ],
      "execution_count": 9,
      "outputs": [
        {
          "output_type": "execute_result",
          "data": {
            "text/html": [
              "<div>\n",
              "<style scoped>\n",
              "    .dataframe tbody tr th:only-of-type {\n",
              "        vertical-align: middle;\n",
              "    }\n",
              "\n",
              "    .dataframe tbody tr th {\n",
              "        vertical-align: top;\n",
              "    }\n",
              "\n",
              "    .dataframe thead th {\n",
              "        text-align: right;\n",
              "    }\n",
              "</style>\n",
              "<table border=\"1\" class=\"dataframe\">\n",
              "  <thead>\n",
              "    <tr style=\"text-align: right;\">\n",
              "      <th></th>\n",
              "      <th>Visit</th>\n",
              "      <th>MR Delay</th>\n",
              "      <th>Age</th>\n",
              "      <th>EDUC</th>\n",
              "      <th>SES</th>\n",
              "      <th>MMSE</th>\n",
              "      <th>CDR</th>\n",
              "      <th>eTIV</th>\n",
              "      <th>nWBV</th>\n",
              "      <th>ASF</th>\n",
              "    </tr>\n",
              "  </thead>\n",
              "  <tbody>\n",
              "    <tr>\n",
              "      <th>Visit</th>\n",
              "      <td>1.000000</td>\n",
              "      <td>0.920009</td>\n",
              "      <td>0.183213</td>\n",
              "      <td>0.024615</td>\n",
              "      <td>-0.051622</td>\n",
              "      <td>-0.029078</td>\n",
              "      <td>0.002325</td>\n",
              "      <td>0.117428</td>\n",
              "      <td>-0.126682</td>\n",
              "      <td>-0.120399</td>\n",
              "    </tr>\n",
              "    <tr>\n",
              "      <th>MR Delay</th>\n",
              "      <td>0.920009</td>\n",
              "      <td>1.000000</td>\n",
              "      <td>0.205357</td>\n",
              "      <td>0.051630</td>\n",
              "      <td>-0.030813</td>\n",
              "      <td>0.065844</td>\n",
              "      <td>-0.062915</td>\n",
              "      <td>0.119624</td>\n",
              "      <td>-0.105586</td>\n",
              "      <td>-0.123545</td>\n",
              "    </tr>\n",
              "    <tr>\n",
              "      <th>Age</th>\n",
              "      <td>0.183213</td>\n",
              "      <td>0.205357</td>\n",
              "      <td>1.000000</td>\n",
              "      <td>-0.027886</td>\n",
              "      <td>-0.046857</td>\n",
              "      <td>0.055612</td>\n",
              "      <td>-0.026257</td>\n",
              "      <td>0.042348</td>\n",
              "      <td>-0.518359</td>\n",
              "      <td>-0.035067</td>\n",
              "    </tr>\n",
              "    <tr>\n",
              "      <th>EDUC</th>\n",
              "      <td>0.024615</td>\n",
              "      <td>0.051630</td>\n",
              "      <td>-0.027886</td>\n",
              "      <td>1.000000</td>\n",
              "      <td>-0.722647</td>\n",
              "      <td>0.194884</td>\n",
              "      <td>-0.153121</td>\n",
              "      <td>0.257015</td>\n",
              "      <td>-0.012200</td>\n",
              "      <td>-0.241752</td>\n",
              "    </tr>\n",
              "    <tr>\n",
              "      <th>SES</th>\n",
              "      <td>-0.051622</td>\n",
              "      <td>-0.030813</td>\n",
              "      <td>-0.046857</td>\n",
              "      <td>-0.722647</td>\n",
              "      <td>1.000000</td>\n",
              "      <td>-0.149219</td>\n",
              "      <td>0.076160</td>\n",
              "      <td>-0.261575</td>\n",
              "      <td>0.090095</td>\n",
              "      <td>0.255576</td>\n",
              "    </tr>\n",
              "    <tr>\n",
              "      <th>MMSE</th>\n",
              "      <td>-0.029078</td>\n",
              "      <td>0.065844</td>\n",
              "      <td>0.055612</td>\n",
              "      <td>0.194884</td>\n",
              "      <td>-0.149219</td>\n",
              "      <td>1.000000</td>\n",
              "      <td>-0.686519</td>\n",
              "      <td>-0.032084</td>\n",
              "      <td>0.341912</td>\n",
              "      <td>0.040052</td>\n",
              "    </tr>\n",
              "    <tr>\n",
              "      <th>CDR</th>\n",
              "      <td>0.002325</td>\n",
              "      <td>-0.062915</td>\n",
              "      <td>-0.026257</td>\n",
              "      <td>-0.153121</td>\n",
              "      <td>0.076160</td>\n",
              "      <td>-0.686519</td>\n",
              "      <td>1.000000</td>\n",
              "      <td>0.022819</td>\n",
              "      <td>-0.344819</td>\n",
              "      <td>-0.029340</td>\n",
              "    </tr>\n",
              "    <tr>\n",
              "      <th>eTIV</th>\n",
              "      <td>0.117428</td>\n",
              "      <td>0.119624</td>\n",
              "      <td>0.042348</td>\n",
              "      <td>0.257015</td>\n",
              "      <td>-0.261575</td>\n",
              "      <td>-0.032084</td>\n",
              "      <td>0.022819</td>\n",
              "      <td>1.000000</td>\n",
              "      <td>-0.210122</td>\n",
              "      <td>-0.988877</td>\n",
              "    </tr>\n",
              "    <tr>\n",
              "      <th>nWBV</th>\n",
              "      <td>-0.126682</td>\n",
              "      <td>-0.105586</td>\n",
              "      <td>-0.518359</td>\n",
              "      <td>-0.012200</td>\n",
              "      <td>0.090095</td>\n",
              "      <td>0.341912</td>\n",
              "      <td>-0.344819</td>\n",
              "      <td>-0.210122</td>\n",
              "      <td>1.000000</td>\n",
              "      <td>0.213476</td>\n",
              "    </tr>\n",
              "    <tr>\n",
              "      <th>ASF</th>\n",
              "      <td>-0.120399</td>\n",
              "      <td>-0.123545</td>\n",
              "      <td>-0.035067</td>\n",
              "      <td>-0.241752</td>\n",
              "      <td>0.255576</td>\n",
              "      <td>0.040052</td>\n",
              "      <td>-0.029340</td>\n",
              "      <td>-0.988877</td>\n",
              "      <td>0.213476</td>\n",
              "      <td>1.000000</td>\n",
              "    </tr>\n",
              "  </tbody>\n",
              "</table>\n",
              "</div>"
            ],
            "text/plain": [
              "             Visit  MR Delay       Age  ...      eTIV      nWBV       ASF\n",
              "Visit     1.000000  0.920009  0.183213  ...  0.117428 -0.126682 -0.120399\n",
              "MR Delay  0.920009  1.000000  0.205357  ...  0.119624 -0.105586 -0.123545\n",
              "Age       0.183213  0.205357  1.000000  ...  0.042348 -0.518359 -0.035067\n",
              "EDUC      0.024615  0.051630 -0.027886  ...  0.257015 -0.012200 -0.241752\n",
              "SES      -0.051622 -0.030813 -0.046857  ... -0.261575  0.090095  0.255576\n",
              "MMSE     -0.029078  0.065844  0.055612  ... -0.032084  0.341912  0.040052\n",
              "CDR       0.002325 -0.062915 -0.026257  ...  0.022819 -0.344819 -0.029340\n",
              "eTIV      0.117428  0.119624  0.042348  ...  1.000000 -0.210122 -0.988877\n",
              "nWBV     -0.126682 -0.105586 -0.518359  ... -0.210122  1.000000  0.213476\n",
              "ASF      -0.120399 -0.123545 -0.035067  ... -0.988877  0.213476  1.000000\n",
              "\n",
              "[10 rows x 10 columns]"
            ]
          },
          "metadata": {
            "tags": []
          },
          "execution_count": 9
        }
      ]
    },
    {
      "cell_type": "code",
      "metadata": {
        "id": "8VOcEZ1syIqb",
        "colab_type": "code",
        "colab": {
          "base_uri": "https://localhost:8080/",
          "height": 70
        },
        "outputId": "a28db407-9305-43c6-c30e-e653b7d9cb6b"
      },
      "source": [
        "from matplotlib import pyplot as plt\n",
        "import seaborn as sns"
      ],
      "execution_count": 10,
      "outputs": [
        {
          "output_type": "stream",
          "text": [
            "/usr/local/lib/python3.6/dist-packages/statsmodels/tools/_testing.py:19: FutureWarning: pandas.util.testing is deprecated. Use the functions in the public API at pandas.testing instead.\n",
            "  import pandas.util.testing as tm\n"
          ],
          "name": "stderr"
        }
      ]
    },
    {
      "cell_type": "code",
      "metadata": {
        "id": "yIT5Ysx_0vEO",
        "colab_type": "code",
        "colab": {
          "base_uri": "https://localhost:8080/",
          "height": 284
        },
        "outputId": "299492ec-5833-49ba-e87f-6bd1315c7921"
      },
      "source": [
        "df.apply(lambda x: sum(x.isnull()),axis=0)"
      ],
      "execution_count": 11,
      "outputs": [
        {
          "output_type": "execute_result",
          "data": {
            "text/plain": [
              "Subject ID     0\n",
              "MRI ID         0\n",
              "Group          0\n",
              "Visit          0\n",
              "MR Delay       0\n",
              "M/F            0\n",
              "Hand           0\n",
              "Age            0\n",
              "EDUC           0\n",
              "SES           19\n",
              "MMSE           2\n",
              "CDR            0\n",
              "eTIV           0\n",
              "nWBV           0\n",
              "ASF            0\n",
              "dtype: int64"
            ]
          },
          "metadata": {
            "tags": []
          },
          "execution_count": 11
        }
      ]
    },
    {
      "cell_type": "code",
      "metadata": {
        "id": "0PE5LZBA3dsL",
        "colab_type": "code",
        "colab": {}
      },
      "source": [
        "Group =df['Group']"
      ],
      "execution_count": 12,
      "outputs": []
    },
    {
      "cell_type": "code",
      "metadata": {
        "id": "wNwm2antKLhL",
        "colab_type": "code",
        "colab": {}
      },
      "source": [
        "#Data Cleaning"
      ],
      "execution_count": 13,
      "outputs": []
    },
    {
      "cell_type": "code",
      "metadata": {
        "id": "rzdtiqaT09tw",
        "colab_type": "code",
        "colab": {}
      },
      "source": [
        "df1=df.drop(['Group','Subject ID','MRI ID','MR Delay','Hand'],axis=1)\n",
        "\n"
      ],
      "execution_count": 14,
      "outputs": []
    },
    {
      "cell_type": "markdown",
      "metadata": {
        "id": "I9UMkDgkFmPN",
        "colab_type": "text"
      },
      "source": [
        ""
      ]
    },
    {
      "cell_type": "code",
      "metadata": {
        "id": "62mlMCRk1c6n",
        "colab_type": "code",
        "colab": {
          "base_uri": "https://localhost:8080/",
          "height": 196
        },
        "outputId": "a8eb83f5-c297-4f0a-9e81-92bcd73bc980"
      },
      "source": [
        "df1.head()"
      ],
      "execution_count": 15,
      "outputs": [
        {
          "output_type": "execute_result",
          "data": {
            "text/html": [
              "<div>\n",
              "<style scoped>\n",
              "    .dataframe tbody tr th:only-of-type {\n",
              "        vertical-align: middle;\n",
              "    }\n",
              "\n",
              "    .dataframe tbody tr th {\n",
              "        vertical-align: top;\n",
              "    }\n",
              "\n",
              "    .dataframe thead th {\n",
              "        text-align: right;\n",
              "    }\n",
              "</style>\n",
              "<table border=\"1\" class=\"dataframe\">\n",
              "  <thead>\n",
              "    <tr style=\"text-align: right;\">\n",
              "      <th></th>\n",
              "      <th>Visit</th>\n",
              "      <th>M/F</th>\n",
              "      <th>Age</th>\n",
              "      <th>EDUC</th>\n",
              "      <th>SES</th>\n",
              "      <th>MMSE</th>\n",
              "      <th>CDR</th>\n",
              "      <th>eTIV</th>\n",
              "      <th>nWBV</th>\n",
              "      <th>ASF</th>\n",
              "    </tr>\n",
              "  </thead>\n",
              "  <tbody>\n",
              "    <tr>\n",
              "      <th>0</th>\n",
              "      <td>1</td>\n",
              "      <td>M</td>\n",
              "      <td>87</td>\n",
              "      <td>14</td>\n",
              "      <td>2.0</td>\n",
              "      <td>27.0</td>\n",
              "      <td>0.0</td>\n",
              "      <td>1987</td>\n",
              "      <td>0.696</td>\n",
              "      <td>0.883</td>\n",
              "    </tr>\n",
              "    <tr>\n",
              "      <th>1</th>\n",
              "      <td>2</td>\n",
              "      <td>M</td>\n",
              "      <td>88</td>\n",
              "      <td>14</td>\n",
              "      <td>2.0</td>\n",
              "      <td>30.0</td>\n",
              "      <td>0.0</td>\n",
              "      <td>2004</td>\n",
              "      <td>0.681</td>\n",
              "      <td>0.876</td>\n",
              "    </tr>\n",
              "    <tr>\n",
              "      <th>2</th>\n",
              "      <td>1</td>\n",
              "      <td>M</td>\n",
              "      <td>75</td>\n",
              "      <td>12</td>\n",
              "      <td>NaN</td>\n",
              "      <td>23.0</td>\n",
              "      <td>0.5</td>\n",
              "      <td>1678</td>\n",
              "      <td>0.736</td>\n",
              "      <td>1.046</td>\n",
              "    </tr>\n",
              "    <tr>\n",
              "      <th>3</th>\n",
              "      <td>2</td>\n",
              "      <td>M</td>\n",
              "      <td>76</td>\n",
              "      <td>12</td>\n",
              "      <td>NaN</td>\n",
              "      <td>28.0</td>\n",
              "      <td>0.5</td>\n",
              "      <td>1738</td>\n",
              "      <td>0.713</td>\n",
              "      <td>1.010</td>\n",
              "    </tr>\n",
              "    <tr>\n",
              "      <th>4</th>\n",
              "      <td>3</td>\n",
              "      <td>M</td>\n",
              "      <td>80</td>\n",
              "      <td>12</td>\n",
              "      <td>NaN</td>\n",
              "      <td>22.0</td>\n",
              "      <td>0.5</td>\n",
              "      <td>1698</td>\n",
              "      <td>0.701</td>\n",
              "      <td>1.034</td>\n",
              "    </tr>\n",
              "  </tbody>\n",
              "</table>\n",
              "</div>"
            ],
            "text/plain": [
              "   Visit M/F  Age  EDUC  SES  MMSE  CDR  eTIV   nWBV    ASF\n",
              "0      1   M   87    14  2.0  27.0  0.0  1987  0.696  0.883\n",
              "1      2   M   88    14  2.0  30.0  0.0  2004  0.681  0.876\n",
              "2      1   M   75    12  NaN  23.0  0.5  1678  0.736  1.046\n",
              "3      2   M   76    12  NaN  28.0  0.5  1738  0.713  1.010\n",
              "4      3   M   80    12  NaN  22.0  0.5  1698  0.701  1.034"
            ]
          },
          "metadata": {
            "tags": []
          },
          "execution_count": 15
        }
      ]
    },
    {
      "cell_type": "code",
      "metadata": {
        "id": "qqTf0jsB1mdZ",
        "colab_type": "code",
        "colab": {
          "base_uri": "https://localhost:8080/",
          "height": 404
        },
        "outputId": "a0149ad6-cc97-4735-92be-13dd6fea23a3"
      },
      "source": [
        "#Drop All Columns with Any Missing Value\n",
        "#df1 = df.dropna(axis=1)\n",
        "\n",
        "# drop all rows with any NaN and NaT values\n",
        "df1 = df1.dropna()\n",
        "df1"
      ],
      "execution_count": 16,
      "outputs": [
        {
          "output_type": "execute_result",
          "data": {
            "text/html": [
              "<div>\n",
              "<style scoped>\n",
              "    .dataframe tbody tr th:only-of-type {\n",
              "        vertical-align: middle;\n",
              "    }\n",
              "\n",
              "    .dataframe tbody tr th {\n",
              "        vertical-align: top;\n",
              "    }\n",
              "\n",
              "    .dataframe thead th {\n",
              "        text-align: right;\n",
              "    }\n",
              "</style>\n",
              "<table border=\"1\" class=\"dataframe\">\n",
              "  <thead>\n",
              "    <tr style=\"text-align: right;\">\n",
              "      <th></th>\n",
              "      <th>Visit</th>\n",
              "      <th>M/F</th>\n",
              "      <th>Age</th>\n",
              "      <th>EDUC</th>\n",
              "      <th>SES</th>\n",
              "      <th>MMSE</th>\n",
              "      <th>CDR</th>\n",
              "      <th>eTIV</th>\n",
              "      <th>nWBV</th>\n",
              "      <th>ASF</th>\n",
              "    </tr>\n",
              "  </thead>\n",
              "  <tbody>\n",
              "    <tr>\n",
              "      <th>0</th>\n",
              "      <td>1</td>\n",
              "      <td>M</td>\n",
              "      <td>87</td>\n",
              "      <td>14</td>\n",
              "      <td>2.0</td>\n",
              "      <td>27.0</td>\n",
              "      <td>0.0</td>\n",
              "      <td>1987</td>\n",
              "      <td>0.696</td>\n",
              "      <td>0.883</td>\n",
              "    </tr>\n",
              "    <tr>\n",
              "      <th>1</th>\n",
              "      <td>2</td>\n",
              "      <td>M</td>\n",
              "      <td>88</td>\n",
              "      <td>14</td>\n",
              "      <td>2.0</td>\n",
              "      <td>30.0</td>\n",
              "      <td>0.0</td>\n",
              "      <td>2004</td>\n",
              "      <td>0.681</td>\n",
              "      <td>0.876</td>\n",
              "    </tr>\n",
              "    <tr>\n",
              "      <th>5</th>\n",
              "      <td>1</td>\n",
              "      <td>F</td>\n",
              "      <td>88</td>\n",
              "      <td>18</td>\n",
              "      <td>3.0</td>\n",
              "      <td>28.0</td>\n",
              "      <td>0.0</td>\n",
              "      <td>1215</td>\n",
              "      <td>0.710</td>\n",
              "      <td>1.444</td>\n",
              "    </tr>\n",
              "    <tr>\n",
              "      <th>6</th>\n",
              "      <td>2</td>\n",
              "      <td>F</td>\n",
              "      <td>90</td>\n",
              "      <td>18</td>\n",
              "      <td>3.0</td>\n",
              "      <td>27.0</td>\n",
              "      <td>0.0</td>\n",
              "      <td>1200</td>\n",
              "      <td>0.718</td>\n",
              "      <td>1.462</td>\n",
              "    </tr>\n",
              "    <tr>\n",
              "      <th>7</th>\n",
              "      <td>1</td>\n",
              "      <td>M</td>\n",
              "      <td>80</td>\n",
              "      <td>12</td>\n",
              "      <td>4.0</td>\n",
              "      <td>28.0</td>\n",
              "      <td>0.0</td>\n",
              "      <td>1689</td>\n",
              "      <td>0.712</td>\n",
              "      <td>1.039</td>\n",
              "    </tr>\n",
              "    <tr>\n",
              "      <th>...</th>\n",
              "      <td>...</td>\n",
              "      <td>...</td>\n",
              "      <td>...</td>\n",
              "      <td>...</td>\n",
              "      <td>...</td>\n",
              "      <td>...</td>\n",
              "      <td>...</td>\n",
              "      <td>...</td>\n",
              "      <td>...</td>\n",
              "      <td>...</td>\n",
              "    </tr>\n",
              "    <tr>\n",
              "      <th>368</th>\n",
              "      <td>2</td>\n",
              "      <td>M</td>\n",
              "      <td>82</td>\n",
              "      <td>16</td>\n",
              "      <td>1.0</td>\n",
              "      <td>28.0</td>\n",
              "      <td>0.5</td>\n",
              "      <td>1693</td>\n",
              "      <td>0.694</td>\n",
              "      <td>1.037</td>\n",
              "    </tr>\n",
              "    <tr>\n",
              "      <th>369</th>\n",
              "      <td>3</td>\n",
              "      <td>M</td>\n",
              "      <td>86</td>\n",
              "      <td>16</td>\n",
              "      <td>1.0</td>\n",
              "      <td>26.0</td>\n",
              "      <td>0.5</td>\n",
              "      <td>1688</td>\n",
              "      <td>0.675</td>\n",
              "      <td>1.040</td>\n",
              "    </tr>\n",
              "    <tr>\n",
              "      <th>370</th>\n",
              "      <td>1</td>\n",
              "      <td>F</td>\n",
              "      <td>61</td>\n",
              "      <td>13</td>\n",
              "      <td>2.0</td>\n",
              "      <td>30.0</td>\n",
              "      <td>0.0</td>\n",
              "      <td>1319</td>\n",
              "      <td>0.801</td>\n",
              "      <td>1.331</td>\n",
              "    </tr>\n",
              "    <tr>\n",
              "      <th>371</th>\n",
              "      <td>2</td>\n",
              "      <td>F</td>\n",
              "      <td>63</td>\n",
              "      <td>13</td>\n",
              "      <td>2.0</td>\n",
              "      <td>30.0</td>\n",
              "      <td>0.0</td>\n",
              "      <td>1327</td>\n",
              "      <td>0.796</td>\n",
              "      <td>1.323</td>\n",
              "    </tr>\n",
              "    <tr>\n",
              "      <th>372</th>\n",
              "      <td>3</td>\n",
              "      <td>F</td>\n",
              "      <td>65</td>\n",
              "      <td>13</td>\n",
              "      <td>2.0</td>\n",
              "      <td>30.0</td>\n",
              "      <td>0.0</td>\n",
              "      <td>1333</td>\n",
              "      <td>0.801</td>\n",
              "      <td>1.317</td>\n",
              "    </tr>\n",
              "  </tbody>\n",
              "</table>\n",
              "<p>354 rows × 10 columns</p>\n",
              "</div>"
            ],
            "text/plain": [
              "     Visit M/F  Age  EDUC  SES  MMSE  CDR  eTIV   nWBV    ASF\n",
              "0        1   M   87    14  2.0  27.0  0.0  1987  0.696  0.883\n",
              "1        2   M   88    14  2.0  30.0  0.0  2004  0.681  0.876\n",
              "5        1   F   88    18  3.0  28.0  0.0  1215  0.710  1.444\n",
              "6        2   F   90    18  3.0  27.0  0.0  1200  0.718  1.462\n",
              "7        1   M   80    12  4.0  28.0  0.0  1689  0.712  1.039\n",
              "..     ...  ..  ...   ...  ...   ...  ...   ...    ...    ...\n",
              "368      2   M   82    16  1.0  28.0  0.5  1693  0.694  1.037\n",
              "369      3   M   86    16  1.0  26.0  0.5  1688  0.675  1.040\n",
              "370      1   F   61    13  2.0  30.0  0.0  1319  0.801  1.331\n",
              "371      2   F   63    13  2.0  30.0  0.0  1327  0.796  1.323\n",
              "372      3   F   65    13  2.0  30.0  0.0  1333  0.801  1.317\n",
              "\n",
              "[354 rows x 10 columns]"
            ]
          },
          "metadata": {
            "tags": []
          },
          "execution_count": 16
        }
      ]
    },
    {
      "cell_type": "code",
      "metadata": {
        "id": "73q5CpiN20ch",
        "colab_type": "code",
        "colab": {}
      },
      "source": [
        "df1['Group'] = Group "
      ],
      "execution_count": 17,
      "outputs": []
    },
    {
      "cell_type": "code",
      "metadata": {
        "id": "ev7JfpXI4A7f",
        "colab_type": "code",
        "colab": {
          "base_uri": "https://localhost:8080/",
          "height": 404
        },
        "outputId": "9d088a29-01e9-45d1-ddbe-210588a9d667"
      },
      "source": [
        "df1"
      ],
      "execution_count": 18,
      "outputs": [
        {
          "output_type": "execute_result",
          "data": {
            "text/html": [
              "<div>\n",
              "<style scoped>\n",
              "    .dataframe tbody tr th:only-of-type {\n",
              "        vertical-align: middle;\n",
              "    }\n",
              "\n",
              "    .dataframe tbody tr th {\n",
              "        vertical-align: top;\n",
              "    }\n",
              "\n",
              "    .dataframe thead th {\n",
              "        text-align: right;\n",
              "    }\n",
              "</style>\n",
              "<table border=\"1\" class=\"dataframe\">\n",
              "  <thead>\n",
              "    <tr style=\"text-align: right;\">\n",
              "      <th></th>\n",
              "      <th>Visit</th>\n",
              "      <th>M/F</th>\n",
              "      <th>Age</th>\n",
              "      <th>EDUC</th>\n",
              "      <th>SES</th>\n",
              "      <th>MMSE</th>\n",
              "      <th>CDR</th>\n",
              "      <th>eTIV</th>\n",
              "      <th>nWBV</th>\n",
              "      <th>ASF</th>\n",
              "      <th>Group</th>\n",
              "    </tr>\n",
              "  </thead>\n",
              "  <tbody>\n",
              "    <tr>\n",
              "      <th>0</th>\n",
              "      <td>1</td>\n",
              "      <td>M</td>\n",
              "      <td>87</td>\n",
              "      <td>14</td>\n",
              "      <td>2.0</td>\n",
              "      <td>27.0</td>\n",
              "      <td>0.0</td>\n",
              "      <td>1987</td>\n",
              "      <td>0.696</td>\n",
              "      <td>0.883</td>\n",
              "      <td>Nondemented</td>\n",
              "    </tr>\n",
              "    <tr>\n",
              "      <th>1</th>\n",
              "      <td>2</td>\n",
              "      <td>M</td>\n",
              "      <td>88</td>\n",
              "      <td>14</td>\n",
              "      <td>2.0</td>\n",
              "      <td>30.0</td>\n",
              "      <td>0.0</td>\n",
              "      <td>2004</td>\n",
              "      <td>0.681</td>\n",
              "      <td>0.876</td>\n",
              "      <td>Nondemented</td>\n",
              "    </tr>\n",
              "    <tr>\n",
              "      <th>5</th>\n",
              "      <td>1</td>\n",
              "      <td>F</td>\n",
              "      <td>88</td>\n",
              "      <td>18</td>\n",
              "      <td>3.0</td>\n",
              "      <td>28.0</td>\n",
              "      <td>0.0</td>\n",
              "      <td>1215</td>\n",
              "      <td>0.710</td>\n",
              "      <td>1.444</td>\n",
              "      <td>Nondemented</td>\n",
              "    </tr>\n",
              "    <tr>\n",
              "      <th>6</th>\n",
              "      <td>2</td>\n",
              "      <td>F</td>\n",
              "      <td>90</td>\n",
              "      <td>18</td>\n",
              "      <td>3.0</td>\n",
              "      <td>27.0</td>\n",
              "      <td>0.0</td>\n",
              "      <td>1200</td>\n",
              "      <td>0.718</td>\n",
              "      <td>1.462</td>\n",
              "      <td>Nondemented</td>\n",
              "    </tr>\n",
              "    <tr>\n",
              "      <th>7</th>\n",
              "      <td>1</td>\n",
              "      <td>M</td>\n",
              "      <td>80</td>\n",
              "      <td>12</td>\n",
              "      <td>4.0</td>\n",
              "      <td>28.0</td>\n",
              "      <td>0.0</td>\n",
              "      <td>1689</td>\n",
              "      <td>0.712</td>\n",
              "      <td>1.039</td>\n",
              "      <td>Nondemented</td>\n",
              "    </tr>\n",
              "    <tr>\n",
              "      <th>...</th>\n",
              "      <td>...</td>\n",
              "      <td>...</td>\n",
              "      <td>...</td>\n",
              "      <td>...</td>\n",
              "      <td>...</td>\n",
              "      <td>...</td>\n",
              "      <td>...</td>\n",
              "      <td>...</td>\n",
              "      <td>...</td>\n",
              "      <td>...</td>\n",
              "      <td>...</td>\n",
              "    </tr>\n",
              "    <tr>\n",
              "      <th>368</th>\n",
              "      <td>2</td>\n",
              "      <td>M</td>\n",
              "      <td>82</td>\n",
              "      <td>16</td>\n",
              "      <td>1.0</td>\n",
              "      <td>28.0</td>\n",
              "      <td>0.5</td>\n",
              "      <td>1693</td>\n",
              "      <td>0.694</td>\n",
              "      <td>1.037</td>\n",
              "      <td>Demented</td>\n",
              "    </tr>\n",
              "    <tr>\n",
              "      <th>369</th>\n",
              "      <td>3</td>\n",
              "      <td>M</td>\n",
              "      <td>86</td>\n",
              "      <td>16</td>\n",
              "      <td>1.0</td>\n",
              "      <td>26.0</td>\n",
              "      <td>0.5</td>\n",
              "      <td>1688</td>\n",
              "      <td>0.675</td>\n",
              "      <td>1.040</td>\n",
              "      <td>Demented</td>\n",
              "    </tr>\n",
              "    <tr>\n",
              "      <th>370</th>\n",
              "      <td>1</td>\n",
              "      <td>F</td>\n",
              "      <td>61</td>\n",
              "      <td>13</td>\n",
              "      <td>2.0</td>\n",
              "      <td>30.0</td>\n",
              "      <td>0.0</td>\n",
              "      <td>1319</td>\n",
              "      <td>0.801</td>\n",
              "      <td>1.331</td>\n",
              "      <td>Nondemented</td>\n",
              "    </tr>\n",
              "    <tr>\n",
              "      <th>371</th>\n",
              "      <td>2</td>\n",
              "      <td>F</td>\n",
              "      <td>63</td>\n",
              "      <td>13</td>\n",
              "      <td>2.0</td>\n",
              "      <td>30.0</td>\n",
              "      <td>0.0</td>\n",
              "      <td>1327</td>\n",
              "      <td>0.796</td>\n",
              "      <td>1.323</td>\n",
              "      <td>Nondemented</td>\n",
              "    </tr>\n",
              "    <tr>\n",
              "      <th>372</th>\n",
              "      <td>3</td>\n",
              "      <td>F</td>\n",
              "      <td>65</td>\n",
              "      <td>13</td>\n",
              "      <td>2.0</td>\n",
              "      <td>30.0</td>\n",
              "      <td>0.0</td>\n",
              "      <td>1333</td>\n",
              "      <td>0.801</td>\n",
              "      <td>1.317</td>\n",
              "      <td>Nondemented</td>\n",
              "    </tr>\n",
              "  </tbody>\n",
              "</table>\n",
              "<p>354 rows × 11 columns</p>\n",
              "</div>"
            ],
            "text/plain": [
              "     Visit M/F  Age  EDUC  SES  MMSE  CDR  eTIV   nWBV    ASF        Group\n",
              "0        1   M   87    14  2.0  27.0  0.0  1987  0.696  0.883  Nondemented\n",
              "1        2   M   88    14  2.0  30.0  0.0  2004  0.681  0.876  Nondemented\n",
              "5        1   F   88    18  3.0  28.0  0.0  1215  0.710  1.444  Nondemented\n",
              "6        2   F   90    18  3.0  27.0  0.0  1200  0.718  1.462  Nondemented\n",
              "7        1   M   80    12  4.0  28.0  0.0  1689  0.712  1.039  Nondemented\n",
              "..     ...  ..  ...   ...  ...   ...  ...   ...    ...    ...          ...\n",
              "368      2   M   82    16  1.0  28.0  0.5  1693  0.694  1.037     Demented\n",
              "369      3   M   86    16  1.0  26.0  0.5  1688  0.675  1.040     Demented\n",
              "370      1   F   61    13  2.0  30.0  0.0  1319  0.801  1.331  Nondemented\n",
              "371      2   F   63    13  2.0  30.0  0.0  1327  0.796  1.323  Nondemented\n",
              "372      3   F   65    13  2.0  30.0  0.0  1333  0.801  1.317  Nondemented\n",
              "\n",
              "[354 rows x 11 columns]"
            ]
          },
          "metadata": {
            "tags": []
          },
          "execution_count": 18
        }
      ]
    },
    {
      "cell_type": "code",
      "metadata": {
        "id": "fYewgV6l4NBx",
        "colab_type": "code",
        "colab": {}
      },
      "source": [
        "df=df1"
      ],
      "execution_count": 19,
      "outputs": []
    },
    {
      "cell_type": "code",
      "metadata": {
        "id": "49G6c-U64Nmm",
        "colab_type": "code",
        "colab": {
          "base_uri": "https://localhost:8080/",
          "height": 1000
        },
        "outputId": "fa34fa7f-d1d9-4c67-88f4-cf1b5243925f"
      },
      "source": [
        "f,ax=plt.subplots(figsize=(18,18))\n",
        "sns.heatmap(df.corr(),annot=True, linewidths=.5,fmt='.1f',ax=ax)"
      ],
      "execution_count": 20,
      "outputs": [
        {
          "output_type": "execute_result",
          "data": {
            "text/plain": [
              "<matplotlib.axes._subplots.AxesSubplot at 0x7fd883e67978>"
            ]
          },
          "metadata": {
            "tags": []
          },
          "execution_count": 20
        },
        {
          "output_type": "display_data",
          "data": {
            "image/png": "[encoded data removed]",
            "text/plain": [
              "<Figure size 1296x1296 with 2 Axes>"
            ]
          },
          "metadata": {
            "tags": [],
            "needs_background": "light"
          }
        }
      ]
    },
    {
      "cell_type": "code",
      "metadata": {
        "id": "O20vz_SA4RJn",
        "colab_type": "code",
        "colab": {
          "base_uri": "https://localhost:8080/",
          "height": 286
        },
        "outputId": "a79156a0-3ebb-4d3b-ee72-848919fd9fe9"
      },
      "source": [
        "df.describe()"
      ],
      "execution_count": 21,
      "outputs": [
        {
          "output_type": "execute_result",
          "data": {
            "text/html": [
              "<div>\n",
              "<style scoped>\n",
              "    .dataframe tbody tr th:only-of-type {\n",
              "        vertical-align: middle;\n",
              "    }\n",
              "\n",
              "    .dataframe tbody tr th {\n",
              "        vertical-align: top;\n",
              "    }\n",
              "\n",
              "    .dataframe thead th {\n",
              "        text-align: right;\n",
              "    }\n",
              "</style>\n",
              "<table border=\"1\" class=\"dataframe\">\n",
              "  <thead>\n",
              "    <tr style=\"text-align: right;\">\n",
              "      <th></th>\n",
              "      <th>Visit</th>\n",
              "      <th>Age</th>\n",
              "      <th>EDUC</th>\n",
              "      <th>SES</th>\n",
              "      <th>MMSE</th>\n",
              "      <th>CDR</th>\n",
              "      <th>eTIV</th>\n",
              "      <th>nWBV</th>\n",
              "      <th>ASF</th>\n",
              "    </tr>\n",
              "  </thead>\n",
              "  <tbody>\n",
              "    <tr>\n",
              "      <th>count</th>\n",
              "      <td>354.000000</td>\n",
              "      <td>354.000000</td>\n",
              "      <td>354.000000</td>\n",
              "      <td>354.000000</td>\n",
              "      <td>354.000000</td>\n",
              "      <td>354.000000</td>\n",
              "      <td>354.000000</td>\n",
              "      <td>354.000000</td>\n",
              "      <td>354.000000</td>\n",
              "    </tr>\n",
              "    <tr>\n",
              "      <th>mean</th>\n",
              "      <td>1.884181</td>\n",
              "      <td>77.033898</td>\n",
              "      <td>14.703390</td>\n",
              "      <td>2.460452</td>\n",
              "      <td>27.409605</td>\n",
              "      <td>0.271186</td>\n",
              "      <td>1489.991525</td>\n",
              "      <td>0.729879</td>\n",
              "      <td>1.193780</td>\n",
              "    </tr>\n",
              "    <tr>\n",
              "      <th>std</th>\n",
              "      <td>0.925330</td>\n",
              "      <td>7.811808</td>\n",
              "      <td>2.895662</td>\n",
              "      <td>1.134005</td>\n",
              "      <td>3.712626</td>\n",
              "      <td>0.370537</td>\n",
              "      <td>175.768462</td>\n",
              "      <td>0.037842</td>\n",
              "      <td>0.136821</td>\n",
              "    </tr>\n",
              "    <tr>\n",
              "      <th>min</th>\n",
              "      <td>1.000000</td>\n",
              "      <td>60.000000</td>\n",
              "      <td>6.000000</td>\n",
              "      <td>1.000000</td>\n",
              "      <td>4.000000</td>\n",
              "      <td>0.000000</td>\n",
              "      <td>1106.000000</td>\n",
              "      <td>0.644000</td>\n",
              "      <td>0.876000</td>\n",
              "    </tr>\n",
              "    <tr>\n",
              "      <th>25%</th>\n",
              "      <td>1.000000</td>\n",
              "      <td>71.000000</td>\n",
              "      <td>12.000000</td>\n",
              "      <td>2.000000</td>\n",
              "      <td>27.000000</td>\n",
              "      <td>0.000000</td>\n",
              "      <td>1358.250000</td>\n",
              "      <td>0.699000</td>\n",
              "      <td>1.100250</td>\n",
              "    </tr>\n",
              "    <tr>\n",
              "      <th>50%</th>\n",
              "      <td>2.000000</td>\n",
              "      <td>77.000000</td>\n",
              "      <td>15.000000</td>\n",
              "      <td>2.000000</td>\n",
              "      <td>29.000000</td>\n",
              "      <td>0.000000</td>\n",
              "      <td>1470.500000</td>\n",
              "      <td>0.729000</td>\n",
              "      <td>1.193500</td>\n",
              "    </tr>\n",
              "    <tr>\n",
              "      <th>75%</th>\n",
              "      <td>2.000000</td>\n",
              "      <td>82.000000</td>\n",
              "      <td>16.750000</td>\n",
              "      <td>3.000000</td>\n",
              "      <td>30.000000</td>\n",
              "      <td>0.500000</td>\n",
              "      <td>1595.250000</td>\n",
              "      <td>0.757000</td>\n",
              "      <td>1.292500</td>\n",
              "    </tr>\n",
              "    <tr>\n",
              "      <th>max</th>\n",
              "      <td>5.000000</td>\n",
              "      <td>98.000000</td>\n",
              "      <td>23.000000</td>\n",
              "      <td>5.000000</td>\n",
              "      <td>30.000000</td>\n",
              "      <td>2.000000</td>\n",
              "      <td>2004.000000</td>\n",
              "      <td>0.837000</td>\n",
              "      <td>1.587000</td>\n",
              "    </tr>\n",
              "  </tbody>\n",
              "</table>\n",
              "</div>"
            ],
            "text/plain": [
              "            Visit         Age        EDUC  ...         eTIV        nWBV         ASF\n",
              "count  354.000000  354.000000  354.000000  ...   354.000000  354.000000  354.000000\n",
              "mean     1.884181   77.033898   14.703390  ...  1489.991525    0.729879    1.193780\n",
              "std      0.925330    7.811808    2.895662  ...   175.768462    0.037842    0.136821\n",
              "min      1.000000   60.000000    6.000000  ...  1106.000000    0.644000    0.876000\n",
              "25%      1.000000   71.000000   12.000000  ...  1358.250000    0.699000    1.100250\n",
              "50%      2.000000   77.000000   15.000000  ...  1470.500000    0.729000    1.193500\n",
              "75%      2.000000   82.000000   16.750000  ...  1595.250000    0.757000    1.292500\n",
              "max      5.000000   98.000000   23.000000  ...  2004.000000    0.837000    1.587000\n",
              "\n",
              "[8 rows x 9 columns]"
            ]
          },
          "metadata": {
            "tags": []
          },
          "execution_count": 21
        }
      ]
    },
    {
      "cell_type": "code",
      "metadata": {
        "id": "Ku_UUnjv4jfJ",
        "colab_type": "code",
        "colab": {
          "base_uri": "https://localhost:8080/",
          "height": 217
        },
        "outputId": "cffb1885-5a8d-4c0f-a2c5-144eaa08fc8c"
      },
      "source": [
        "df.apply(lambda x: sum(x.isnull()),axis=0)"
      ],
      "execution_count": 22,
      "outputs": [
        {
          "output_type": "execute_result",
          "data": {
            "text/plain": [
              "Visit    0\n",
              "M/F      0\n",
              "Age      0\n",
              "EDUC     0\n",
              "SES      0\n",
              "MMSE     0\n",
              "CDR      0\n",
              "eTIV     0\n",
              "nWBV     0\n",
              "ASF      0\n",
              "Group    0\n",
              "dtype: int64"
            ]
          },
          "metadata": {
            "tags": []
          },
          "execution_count": 22
        }
      ]
    },
    {
      "cell_type": "code",
      "metadata": {
        "id": "sOGOxCjC5F0v",
        "colab_type": "code",
        "colab": {
          "base_uri": "https://localhost:8080/",
          "height": 318
        },
        "outputId": "6bbf9d28-2636-4015-e4df-49f49fc94864"
      },
      "source": [
        "df.info()"
      ],
      "execution_count": 23,
      "outputs": [
        {
          "output_type": "stream",
          "text": [
            "<class 'pandas.core.frame.DataFrame'>\n",
            "Int64Index: 354 entries, 0 to 372\n",
            "Data columns (total 11 columns):\n",
            " #   Column  Non-Null Count  Dtype  \n",
            "---  ------  --------------  -----  \n",
            " 0   Visit   354 non-null    int64  \n",
            " 1   M/F     354 non-null    object \n",
            " 2   Age     354 non-null    int64  \n",
            " 3   EDUC    354 non-null    int64  \n",
            " 4   SES     354 non-null    float64\n",
            " 5   MMSE    354 non-null    float64\n",
            " 6   CDR     354 non-null    float64\n",
            " 7   eTIV    354 non-null    int64  \n",
            " 8   nWBV    354 non-null    float64\n",
            " 9   ASF     354 non-null    float64\n",
            " 10  Group   354 non-null    object \n",
            "dtypes: float64(5), int64(4), object(2)\n",
            "memory usage: 33.2+ KB\n"
          ],
          "name": "stdout"
        }
      ]
    },
    {
      "cell_type": "code",
      "metadata": {
        "id": "MtOSE0Pu5Gu0",
        "colab_type": "code",
        "colab": {}
      },
      "source": [
        "from sklearn.preprocessing import LabelEncoder\n",
        "from collections import defaultdict\n",
        "d = defaultdict(LabelEncoder)"
      ],
      "execution_count": 24,
      "outputs": []
    },
    {
      "cell_type": "code",
      "metadata": {
        "id": "kk2kcnjM5Ri3",
        "colab_type": "code",
        "colab": {
          "base_uri": "https://localhost:8080/",
          "height": 404
        },
        "outputId": "03daf525-df1a-450c-a566-29826944a625"
      },
      "source": [
        "# Encoding the variable\n",
        "fit = df.apply(lambda x: d[x.name].fit_transform(x))\n",
        "\n",
        "# Inverse the encoded\n",
        "fit.apply(lambda x: d[x.name].inverse_transform(x))\n",
        "\n",
        "# Using the dictionary to label future data\n",
        "df=df.apply(lambda x: d[x.name].transform(x))\n",
        "df"
      ],
      "execution_count": 25,
      "outputs": [
        {
          "output_type": "execute_result",
          "data": {
            "text/html": [
              "<div>\n",
              "<style scoped>\n",
              "    .dataframe tbody tr th:only-of-type {\n",
              "        vertical-align: middle;\n",
              "    }\n",
              "\n",
              "    .dataframe tbody tr th {\n",
              "        vertical-align: top;\n",
              "    }\n",
              "\n",
              "    .dataframe thead th {\n",
              "        text-align: right;\n",
              "    }\n",
              "</style>\n",
              "<table border=\"1\" class=\"dataframe\">\n",
              "  <thead>\n",
              "    <tr style=\"text-align: right;\">\n",
              "      <th></th>\n",
              "      <th>Visit</th>\n",
              "      <th>M/F</th>\n",
              "      <th>Age</th>\n",
              "      <th>EDUC</th>\n",
              "      <th>SES</th>\n",
              "      <th>MMSE</th>\n",
              "      <th>CDR</th>\n",
              "      <th>eTIV</th>\n",
              "      <th>nWBV</th>\n",
              "      <th>ASF</th>\n",
              "      <th>Group</th>\n",
              "    </tr>\n",
              "  </thead>\n",
              "  <tbody>\n",
              "    <tr>\n",
              "      <th>0</th>\n",
              "      <td>0</td>\n",
              "      <td>1</td>\n",
              "      <td>27</td>\n",
              "      <td>5</td>\n",
              "      <td>1</td>\n",
              "      <td>14</td>\n",
              "      <td>0</td>\n",
              "      <td>274</td>\n",
              "      <td>35</td>\n",
              "      <td>1</td>\n",
              "      <td>2</td>\n",
              "    </tr>\n",
              "    <tr>\n",
              "      <th>1</th>\n",
              "      <td>1</td>\n",
              "      <td>1</td>\n",
              "      <td>28</td>\n",
              "      <td>5</td>\n",
              "      <td>1</td>\n",
              "      <td>17</td>\n",
              "      <td>0</td>\n",
              "      <td>275</td>\n",
              "      <td>20</td>\n",
              "      <td>0</td>\n",
              "      <td>2</td>\n",
              "    </tr>\n",
              "    <tr>\n",
              "      <th>5</th>\n",
              "      <td>0</td>\n",
              "      <td>0</td>\n",
              "      <td>28</td>\n",
              "      <td>9</td>\n",
              "      <td>2</td>\n",
              "      <td>15</td>\n",
              "      <td>0</td>\n",
              "      <td>13</td>\n",
              "      <td>48</td>\n",
              "      <td>242</td>\n",
              "      <td>2</td>\n",
              "    </tr>\n",
              "    <tr>\n",
              "      <th>6</th>\n",
              "      <td>1</td>\n",
              "      <td>0</td>\n",
              "      <td>30</td>\n",
              "      <td>9</td>\n",
              "      <td>2</td>\n",
              "      <td>14</td>\n",
              "      <td>0</td>\n",
              "      <td>10</td>\n",
              "      <td>56</td>\n",
              "      <td>245</td>\n",
              "      <td>2</td>\n",
              "    </tr>\n",
              "    <tr>\n",
              "      <th>7</th>\n",
              "      <td>0</td>\n",
              "      <td>1</td>\n",
              "      <td>20</td>\n",
              "      <td>3</td>\n",
              "      <td>3</td>\n",
              "      <td>15</td>\n",
              "      <td>0</td>\n",
              "      <td>226</td>\n",
              "      <td>50</td>\n",
              "      <td>47</td>\n",
              "      <td>2</td>\n",
              "    </tr>\n",
              "    <tr>\n",
              "      <th>...</th>\n",
              "      <td>...</td>\n",
              "      <td>...</td>\n",
              "      <td>...</td>\n",
              "      <td>...</td>\n",
              "      <td>...</td>\n",
              "      <td>...</td>\n",
              "      <td>...</td>\n",
              "      <td>...</td>\n",
              "      <td>...</td>\n",
              "      <td>...</td>\n",
              "      <td>...</td>\n",
              "    </tr>\n",
              "    <tr>\n",
              "      <th>368</th>\n",
              "      <td>1</td>\n",
              "      <td>1</td>\n",
              "      <td>22</td>\n",
              "      <td>7</td>\n",
              "      <td>0</td>\n",
              "      <td>15</td>\n",
              "      <td>1</td>\n",
              "      <td>228</td>\n",
              "      <td>33</td>\n",
              "      <td>46</td>\n",
              "      <td>1</td>\n",
              "    </tr>\n",
              "    <tr>\n",
              "      <th>369</th>\n",
              "      <td>2</td>\n",
              "      <td>1</td>\n",
              "      <td>26</td>\n",
              "      <td>7</td>\n",
              "      <td>0</td>\n",
              "      <td>13</td>\n",
              "      <td>1</td>\n",
              "      <td>225</td>\n",
              "      <td>14</td>\n",
              "      <td>48</td>\n",
              "      <td>1</td>\n",
              "    </tr>\n",
              "    <tr>\n",
              "      <th>370</th>\n",
              "      <td>0</td>\n",
              "      <td>0</td>\n",
              "      <td>1</td>\n",
              "      <td>4</td>\n",
              "      <td>1</td>\n",
              "      <td>17</td>\n",
              "      <td>0</td>\n",
              "      <td>47</td>\n",
              "      <td>125</td>\n",
              "      <td>209</td>\n",
              "      <td>2</td>\n",
              "    </tr>\n",
              "    <tr>\n",
              "      <th>371</th>\n",
              "      <td>1</td>\n",
              "      <td>0</td>\n",
              "      <td>3</td>\n",
              "      <td>4</td>\n",
              "      <td>1</td>\n",
              "      <td>17</td>\n",
              "      <td>0</td>\n",
              "      <td>52</td>\n",
              "      <td>123</td>\n",
              "      <td>205</td>\n",
              "      <td>2</td>\n",
              "    </tr>\n",
              "    <tr>\n",
              "      <th>372</th>\n",
              "      <td>2</td>\n",
              "      <td>0</td>\n",
              "      <td>5</td>\n",
              "      <td>4</td>\n",
              "      <td>1</td>\n",
              "      <td>17</td>\n",
              "      <td>0</td>\n",
              "      <td>56</td>\n",
              "      <td>125</td>\n",
              "      <td>202</td>\n",
              "      <td>2</td>\n",
              "    </tr>\n",
              "  </tbody>\n",
              "</table>\n",
              "<p>354 rows × 11 columns</p>\n",
              "</div>"
            ],
            "text/plain": [
              "     Visit  M/F  Age  EDUC  SES  MMSE  CDR  eTIV  nWBV  ASF  Group\n",
              "0        0    1   27     5    1    14    0   274    35    1      2\n",
              "1        1    1   28     5    1    17    0   275    20    0      2\n",
              "5        0    0   28     9    2    15    0    13    48  242      2\n",
              "6        1    0   30     9    2    14    0    10    56  245      2\n",
              "7        0    1   20     3    3    15    0   226    50   47      2\n",
              "..     ...  ...  ...   ...  ...   ...  ...   ...   ...  ...    ...\n",
              "368      1    1   22     7    0    15    1   228    33   46      1\n",
              "369      2    1   26     7    0    13    1   225    14   48      1\n",
              "370      0    0    1     4    1    17    0    47   125  209      2\n",
              "371      1    0    3     4    1    17    0    52   123  205      2\n",
              "372      2    0    5     4    1    17    0    56   125  202      2\n",
              "\n",
              "[354 rows x 11 columns]"
            ]
          },
          "metadata": {
            "tags": []
          },
          "execution_count": 25
        }
      ]
    },
    {
      "cell_type": "code",
      "metadata": {
        "id": "4DwpXZyH5UT2",
        "colab_type": "code",
        "colab": {
          "base_uri": "https://localhost:8080/",
          "height": 318
        },
        "outputId": "e63cc9d6-042c-4c43-bb24-4e3a4e3b62e4"
      },
      "source": [
        "df.info()"
      ],
      "execution_count": 26,
      "outputs": [
        {
          "output_type": "stream",
          "text": [
            "<class 'pandas.core.frame.DataFrame'>\n",
            "Int64Index: 354 entries, 0 to 372\n",
            "Data columns (total 11 columns):\n",
            " #   Column  Non-Null Count  Dtype\n",
            "---  ------  --------------  -----\n",
            " 0   Visit   354 non-null    int64\n",
            " 1   M/F     354 non-null    int64\n",
            " 2   Age     354 non-null    int64\n",
            " 3   EDUC    354 non-null    int64\n",
            " 4   SES     354 non-null    int64\n",
            " 5   MMSE    354 non-null    int64\n",
            " 6   CDR     354 non-null    int64\n",
            " 7   eTIV    354 non-null    int64\n",
            " 8   nWBV    354 non-null    int64\n",
            " 9   ASF     354 non-null    int64\n",
            " 10  Group   354 non-null    int64\n",
            "dtypes: int64(11)\n",
            "memory usage: 33.2 KB\n"
          ],
          "name": "stdout"
        }
      ]
    },
    {
      "cell_type": "code",
      "metadata": {
        "id": "DJm3ObgY5Y6Y",
        "colab_type": "code",
        "colab": {
          "base_uri": "https://localhost:8080/",
          "height": 735
        },
        "outputId": "96af4aa7-e0b6-4f81-a194-cfac2513bb6f"
      },
      "source": [
        "def correlation_matrix(d):\n",
        "    from matplotlib import pyplot as plt\n",
        "    from matplotlib import cm as cm\n",
        "\n",
        "    fig = plt.figure(figsize=(16,12))\n",
        "    ax1 = fig.add_subplot(111)\n",
        "    cmap = cm.get_cmap('jet', 30)\n",
        "    cax = ax1.imshow(df.corr(), interpolation=\"nearest\", cmap=cmap)\n",
        "    ax1.grid(True)\n",
        "    plt.title('MRI and Alzheimers scan by the  Open Access Series of Imaging Studies (OASIS) data set features correlation\\n',fontsize=15)\n",
        "    labels=df.columns\n",
        "    ax1.set_xticklabels(labels,fontsize=9)\n",
        "    ax1.set_yticklabels(labels,fontsize=9)\n",
        "    # Add colorbar, make sure to specify tick locations to match desired ticklabels\n",
        "    fig.colorbar(cax, ticks=[0.1*i for i in range(-11,11)])\n",
        "    plt.show()\n",
        "\n",
        "correlation_matrix(df)"
      ],
      "execution_count": 27,
      "outputs": [
        {
          "output_type": "display_data",
          "data": {
            "image/png": "[encoded data removed]",
            "text/plain": [
              "<Figure size 1152x864 with 2 Axes>"
            ]
          },
          "metadata": {
            "tags": [],
            "needs_background": "light"
          }
        }
      ]
    },
    {
      "cell_type": "code",
      "metadata": {
        "id": "PSGqS6Pd6L6h",
        "colab_type": "code",
        "colab": {
          "base_uri": "https://localhost:8080/",
          "height": 730
        },
        "outputId": "e7fdd8f7-8be9-40ed-c18a-fad411676a21"
      },
      "source": [
        "i=1\n",
        "plt.figure(figsize=(20,25))\n",
        "for c in df.describe().columns[:]:\n",
        "    plt.subplot(8,3,i)\n",
        "    plt.title(f\"Histogram of {c}\",fontsize=10)\n",
        "    plt.yticks(fontsize=12)\n",
        "    plt.xticks(fontsize=12)\n",
        "    plt.hist(df[c],bins=20,color='red',edgecolor='k')\n",
        "    i+=1\n",
        "plt.show()"
      ],
      "execution_count": 28,
      "outputs": [
        {
          "output_type": "display_data",
          "data": {
            "image/png": "[encoded data removed]",
            "text/plain": [
              "<Figure size 1440x1800 with 11 Axes>"
            ]
          },
          "metadata": {
            "tags": [],
            "needs_background": "light"
          }
        }
      ]
    },
    {
      "cell_type": "code",
      "metadata": {
        "id": "hiN5kQzd6W3t",
        "colab_type": "code",
        "colab": {
          "base_uri": "https://localhost:8080/",
          "height": 296
        },
        "outputId": "d03e1d1e-b107-420e-800c-46429e066c33"
      },
      "source": [
        "i=1\n",
        "plt.figure(figsize=(30,20))\n",
        "for c in df.columns[:-1]:\n",
        "    plt.subplot(10,4,i)\n",
        "    plt.title(f\"Boxplot of {c}\",fontsize=16)\n",
        "    plt.yticks(fontsize=12)\n",
        "    plt.xticks(fontsize=12)\n",
        "    sns.boxplot(y=df[c],x=df['Group'])\n",
        "    i+=1\n",
        "plt.show()"
      ],
      "execution_count": 29,
      "outputs": [
        {
          "output_type": "display_data",
          "data": {
            "image/png": "[encoded data removed]",
            "text/plain": [
              "<Figure size 2160x1440 with 10 Axes>"
            ]
          },
          "metadata": {
            "tags": [],
            "needs_background": "light"
          }
        }
      ]
    },
    {
      "cell_type": "code",
      "metadata": {
        "id": "ddD_xTIK6r3O",
        "colab_type": "code",
        "colab": {}
      },
      "source": [
        "X_data=df.drop(['Group'],axis=1)\n",
        "y_data=df['Group']\n"
      ],
      "execution_count": 30,
      "outputs": []
    },
    {
      "cell_type": "code",
      "metadata": {
        "id": "ROpmnq2_61q_",
        "colab_type": "code",
        "colab": {
          "base_uri": "https://localhost:8080/",
          "height": 33
        },
        "outputId": "128a2444-9a83-4065-9097-dd0d1a61b32d"
      },
      "source": [
        "X_data.shape"
      ],
      "execution_count": 31,
      "outputs": [
        {
          "output_type": "execute_result",
          "data": {
            "text/plain": [
              "(354, 10)"
            ]
          },
          "metadata": {
            "tags": []
          },
          "execution_count": 31
        }
      ]
    },
    {
      "cell_type": "code",
      "metadata": {
        "id": "3uK1Wpn88QRu",
        "colab_type": "code",
        "colab": {}
      },
      "source": [
        "from sklearn.model_selection import train_test_split\n",
        "import numpy"
      ],
      "execution_count": 32,
      "outputs": []
    },
    {
      "cell_type": "code",
      "metadata": {
        "id": "W-rcJWbU8Umm",
        "colab_type": "code",
        "colab": {}
      },
      "source": [
        "seed = 121\n",
        "numpy.random.seed(seed)"
      ],
      "execution_count": 33,
      "outputs": []
    },
    {
      "cell_type": "code",
      "metadata": {
        "id": "xodEt3ij8XDW",
        "colab_type": "code",
        "colab": {}
      },
      "source": [
        "X_train, X_test, y_train, y_test = train_test_split(X_data,y_data,test_size=0.3, random_state=seed)"
      ],
      "execution_count": 34,
      "outputs": []
    },
    {
      "cell_type": "code",
      "metadata": {
        "id": "eTNlLRqP82hV",
        "colab_type": "code",
        "colab": {
          "base_uri": "https://localhost:8080/",
          "height": 33
        },
        "outputId": "d09be250-b5b4-462f-8c38-07daefea9a45"
      },
      "source": [
        "dims = X_train.shape[1]\n",
        "print(dims, 'dims')"
      ],
      "execution_count": 35,
      "outputs": [
        {
          "output_type": "stream",
          "text": [
            "10 dims\n"
          ],
          "name": "stdout"
        }
      ]
    },
    {
      "cell_type": "code",
      "metadata": {
        "id": "LpBQFinO86au",
        "colab_type": "code",
        "colab": {
          "base_uri": "https://localhost:8080/",
          "height": 217
        },
        "outputId": "2f07116b-329e-4db6-a655-209229cf4d74"
      },
      "source": [
        "print(y_train)"
      ],
      "execution_count": 36,
      "outputs": [
        {
          "output_type": "stream",
          "text": [
            "149    2\n",
            "179    2\n",
            "284    1\n",
            "340    2\n",
            "118    2\n",
            "      ..\n",
            "188    1\n",
            "71     2\n",
            "101    1\n",
            "276    1\n",
            "336    2\n",
            "Name: Group, Length: 247, dtype: int64\n"
          ],
          "name": "stdout"
        }
      ]
    },
    {
      "cell_type": "code",
      "metadata": {
        "id": "H3dksTtu8-F2",
        "colab_type": "code",
        "colab": {
          "base_uri": "https://localhost:8080/",
          "height": 84
        },
        "outputId": "a4c17211-6dfc-4a88-b5ef-ad0d58a2feb8"
      },
      "source": [
        "#For Support vector Algorithm\n",
        "from sklearn.svm import SVC\n",
        "model = SVC()\n",
        "model.fit(X_train,y_train)"
      ],
      "execution_count": 37,
      "outputs": [
        {
          "output_type": "execute_result",
          "data": {
            "text/plain": [
              "SVC(C=1.0, break_ties=False, cache_size=200, class_weight=None, coef0=0.0,\n",
              "    decision_function_shape='ovr', degree=3, gamma='scale', kernel='rbf',\n",
              "    max_iter=-1, probability=False, random_state=None, shrinking=True,\n",
              "    tol=0.001, verbose=False)"
            ]
          },
          "metadata": {
            "tags": []
          },
          "execution_count": 37
        }
      ]
    },
    {
      "cell_type": "code",
      "metadata": {
        "id": "JIPJ1q1L9C9m",
        "colab_type": "code",
        "colab": {}
      },
      "source": [
        "predictions = model.predict(X_test)"
      ],
      "execution_count": 38,
      "outputs": []
    },
    {
      "cell_type": "code",
      "metadata": {
        "id": "vvZLOWhP9Get",
        "colab_type": "code",
        "colab": {}
      },
      "source": [
        "from sklearn.metrics import classification_report,confusion_matrix"
      ],
      "execution_count": 39,
      "outputs": []
    },
    {
      "cell_type": "code",
      "metadata": {
        "id": "0HwTR_mj9KQ2",
        "colab_type": "code",
        "colab": {
          "base_uri": "https://localhost:8080/",
          "height": 67
        },
        "outputId": "d946c7c4-812a-4cbc-89da-940456085224"
      },
      "source": [
        "print(confusion_matrix(y_test,predictions))"
      ],
      "execution_count": 40,
      "outputs": [
        {
          "output_type": "stream",
          "text": [
            "[[ 0  4 10]\n",
            " [ 0 15 19]\n",
            " [ 0  8 51]]\n"
          ],
          "name": "stdout"
        }
      ]
    },
    {
      "cell_type": "code",
      "metadata": {
        "id": "EWdGFsiE9O0-",
        "colab_type": "code",
        "colab": {
          "base_uri": "https://localhost:8080/",
          "height": 237
        },
        "outputId": "d8cb1f89-c342-430e-c062-ed57e97d1a95"
      },
      "source": [
        "print(classification_report(y_test,predictions))"
      ],
      "execution_count": 41,
      "outputs": [
        {
          "output_type": "stream",
          "text": [
            "              precision    recall  f1-score   support\n",
            "\n",
            "           0       0.00      0.00      0.00        14\n",
            "           1       0.56      0.44      0.49        34\n",
            "           2       0.64      0.86      0.73        59\n",
            "\n",
            "    accuracy                           0.62       107\n",
            "   macro avg       0.40      0.44      0.41       107\n",
            "weighted avg       0.53      0.62      0.56       107\n",
            "\n"
          ],
          "name": "stdout"
        },
        {
          "output_type": "stream",
          "text": [
            "/usr/local/lib/python3.6/dist-packages/sklearn/metrics/_classification.py:1272: UndefinedMetricWarning: Precision and F-score are ill-defined and being set to 0.0 in labels with no predicted samples. Use `zero_division` parameter to control this behavior.\n",
            "  _warn_prf(average, modifier, msg_start, len(result))\n"
          ],
          "name": "stderr"
        }
      ]
    },
    {
      "cell_type": "code",
      "metadata": {
        "id": "HV-b7QNX9SJV",
        "colab_type": "code",
        "colab": {}
      },
      "source": [
        "#Parameter tuning\n",
        "param_grid = {'C': [0.1,1, 10, 100, 1000], 'gamma': [1,0.1,0.01,0.001,0.0001], 'kernel': ['rbf']}"
      ],
      "execution_count": 42,
      "outputs": []
    },
    {
      "cell_type": "code",
      "metadata": {
        "id": "Ec_rQMUG9X2G",
        "colab_type": "code",
        "colab": {
          "base_uri": "https://localhost:8080/",
          "height": 284
        },
        "outputId": "cd6dc1c3-eb02-4144-e0be-274135d6155e"
      },
      "source": [
        "from sklearn.model_selection import GridSearchCV\n",
        "\n",
        "grid = GridSearchCV(SVC(),param_grid,refit=True,verbose=1)\n",
        "\n",
        "# May take a while!\n",
        "grid.fit(X_train,y_train)"
      ],
      "execution_count": 43,
      "outputs": [
        {
          "output_type": "stream",
          "text": [
            "Fitting 5 folds for each of 25 candidates, totalling 125 fits\n"
          ],
          "name": "stdout"
        },
        {
          "output_type": "stream",
          "text": [
            "[Parallel(n_jobs=1)]: Using backend SequentialBackend with 1 concurrent workers.\n",
            "[Parallel(n_jobs=1)]: Done 125 out of 125 | elapsed:    0.9s finished\n"
          ],
          "name": "stderr"
        },
        {
          "output_type": "execute_result",
          "data": {
            "text/plain": [
              "GridSearchCV(cv=None, error_score=nan,\n",
              "             estimator=SVC(C=1.0, break_ties=False, cache_size=200,\n",
              "                           class_weight=None, coef0=0.0,\n",
              "                           decision_function_shape='ovr', degree=3,\n",
              "                           gamma='scale', kernel='rbf', max_iter=-1,\n",
              "                           probability=False, random_state=None, shrinking=True,\n",
              "                           tol=0.001, verbose=False),\n",
              "             iid='deprecated', n_jobs=None,\n",
              "             param_grid={'C': [0.1, 1, 10, 100, 1000],\n",
              "                         'gamma': [1, 0.1, 0.01, 0.001, 0.0001],\n",
              "                         'kernel': ['rbf']},\n",
              "             pre_dispatch='2*n_jobs', refit=True, return_train_score=False,\n",
              "             scoring=None, verbose=1)"
            ]
          },
          "metadata": {
            "tags": []
          },
          "execution_count": 43
        }
      ]
    },
    {
      "cell_type": "code",
      "metadata": {
        "id": "Ovvc_akE9b-2",
        "colab_type": "code",
        "colab": {
          "base_uri": "https://localhost:8080/",
          "height": 33
        },
        "outputId": "a057936e-b340-4aef-e0ea-c8769c65b369"
      },
      "source": [
        "grid.best_params_"
      ],
      "execution_count": 44,
      "outputs": [
        {
          "output_type": "execute_result",
          "data": {
            "text/plain": [
              "{'C': 1000, 'gamma': 0.0001, 'kernel': 'rbf'}"
            ]
          },
          "metadata": {
            "tags": []
          },
          "execution_count": 44
        }
      ]
    },
    {
      "cell_type": "code",
      "metadata": {
        "id": "-Mh9GFUr9fJt",
        "colab_type": "code",
        "colab": {
          "base_uri": "https://localhost:8080/",
          "height": 84
        },
        "outputId": "8a27eccf-9323-4489-b07c-050c938118f3"
      },
      "source": [
        "grid.best_estimator_"
      ],
      "execution_count": 45,
      "outputs": [
        {
          "output_type": "execute_result",
          "data": {
            "text/plain": [
              "SVC(C=1000, break_ties=False, cache_size=200, class_weight=None, coef0=0.0,\n",
              "    decision_function_shape='ovr', degree=3, gamma=0.0001, kernel='rbf',\n",
              "    max_iter=-1, probability=False, random_state=None, shrinking=True,\n",
              "    tol=0.001, verbose=False)"
            ]
          },
          "metadata": {
            "tags": []
          },
          "execution_count": 45
        }
      ]
    },
    {
      "cell_type": "code",
      "metadata": {
        "id": "cBXLbf2b9itm",
        "colab_type": "code",
        "colab": {}
      },
      "source": [
        "grid_predictions = grid.predict(X_test)"
      ],
      "execution_count": 46,
      "outputs": []
    },
    {
      "cell_type": "code",
      "metadata": {
        "id": "lbwxg1m99lud",
        "colab_type": "code",
        "colab": {
          "base_uri": "https://localhost:8080/",
          "height": 67
        },
        "outputId": "f56a9ebd-fc38-4055-e499-6b212692cf46"
      },
      "source": [
        "print(confusion_matrix(y_test,grid_predictions))"
      ],
      "execution_count": 47,
      "outputs": [
        {
          "output_type": "stream",
          "text": [
            "[[ 6  2  6]\n",
            " [ 1 28  5]\n",
            " [ 2  3 54]]\n"
          ],
          "name": "stdout"
        }
      ]
    },
    {
      "cell_type": "code",
      "metadata": {
        "id": "QRhodsJg9ok1",
        "colab_type": "code",
        "colab": {
          "base_uri": "https://localhost:8080/",
          "height": 184
        },
        "outputId": "dd76cdf8-e964-48e0-ea22-e98bbb7a283f"
      },
      "source": [
        "print(classification_report(y_test,grid_predictions))"
      ],
      "execution_count": 48,
      "outputs": [
        {
          "output_type": "stream",
          "text": [
            "              precision    recall  f1-score   support\n",
            "\n",
            "           0       0.67      0.43      0.52        14\n",
            "           1       0.85      0.82      0.84        34\n",
            "           2       0.83      0.92      0.87        59\n",
            "\n",
            "    accuracy                           0.82       107\n",
            "   macro avg       0.78      0.72      0.74       107\n",
            "weighted avg       0.81      0.82      0.81       107\n",
            "\n"
          ],
          "name": "stdout"
        }
      ]
    },
    {
      "cell_type": "code",
      "metadata": {
        "id": "uLwESTTS9sIM",
        "colab_type": "code",
        "colab": {
          "base_uri": "https://localhost:8080/",
          "height": 284
        },
        "outputId": "b7cf2a86-31f8-4ac7-a95b-be39d46505e2"
      },
      "source": [
        "param_grid = {'C': [50,75,100,125,150], 'gamma': [1e-2,1e-3,1e-4,1e-5,1e-6], 'kernel': ['rbf']} \n",
        "grid = GridSearchCV(SVC(tol=1e-5),param_grid,refit=True,verbose=1)\n",
        "grid.fit(X_train,y_train)"
      ],
      "execution_count": 49,
      "outputs": [
        {
          "output_type": "stream",
          "text": [
            "[Parallel(n_jobs=1)]: Using backend SequentialBackend with 1 concurrent workers.\n"
          ],
          "name": "stderr"
        },
        {
          "output_type": "stream",
          "text": [
            "Fitting 5 folds for each of 25 candidates, totalling 125 fits\n"
          ],
          "name": "stdout"
        },
        {
          "output_type": "stream",
          "text": [
            "[Parallel(n_jobs=1)]: Done 125 out of 125 | elapsed:    1.2s finished\n"
          ],
          "name": "stderr"
        },
        {
          "output_type": "execute_result",
          "data": {
            "text/plain": [
              "GridSearchCV(cv=None, error_score=nan,\n",
              "             estimator=SVC(C=1.0, break_ties=False, cache_size=200,\n",
              "                           class_weight=None, coef0=0.0,\n",
              "                           decision_function_shape='ovr', degree=3,\n",
              "                           gamma='scale', kernel='rbf', max_iter=-1,\n",
              "                           probability=False, random_state=None, shrinking=True,\n",
              "                           tol=1e-05, verbose=False),\n",
              "             iid='deprecated', n_jobs=None,\n",
              "             param_grid={'C': [50, 75, 100, 125, 150],\n",
              "                         'gamma': [0.01, 0.001, 0.0001, 1e-05, 1e-06],\n",
              "                         'kernel': ['rbf']},\n",
              "             pre_dispatch='2*n_jobs', refit=True, return_train_score=False,\n",
              "             scoring=None, verbose=1)"
            ]
          },
          "metadata": {
            "tags": []
          },
          "execution_count": 49
        }
      ]
    },
    {
      "cell_type": "code",
      "metadata": {
        "id": "_LnAHTiK95yG",
        "colab_type": "code",
        "colab": {
          "base_uri": "https://localhost:8080/",
          "height": 84
        },
        "outputId": "ba049be3-7b40-4ac4-dbd4-4161f4918344"
      },
      "source": [
        "grid.best_estimator_"
      ],
      "execution_count": 50,
      "outputs": [
        {
          "output_type": "execute_result",
          "data": {
            "text/plain": [
              "SVC(C=125, break_ties=False, cache_size=200, class_weight=None, coef0=0.0,\n",
              "    decision_function_shape='ovr', degree=3, gamma=0.0001, kernel='rbf',\n",
              "    max_iter=-1, probability=False, random_state=None, shrinking=True,\n",
              "    tol=1e-05, verbose=False)"
            ]
          },
          "metadata": {
            "tags": []
          },
          "execution_count": 50
        }
      ]
    },
    {
      "cell_type": "code",
      "metadata": {
        "id": "Tj50cW0898yu",
        "colab_type": "code",
        "colab": {
          "base_uri": "https://localhost:8080/",
          "height": 67
        },
        "outputId": "b19a4d71-1fa5-47ff-bda8-f2c34218e25e"
      },
      "source": [
        "grid_predictions = grid.predict(X_test)\n",
        "print(confusion_matrix(y_test,grid_predictions))"
      ],
      "execution_count": 51,
      "outputs": [
        {
          "output_type": "stream",
          "text": [
            "[[ 2  4  8]\n",
            " [ 0 25  9]\n",
            " [ 2  2 55]]\n"
          ],
          "name": "stdout"
        }
      ]
    },
    {
      "cell_type": "code",
      "metadata": {
        "id": "KXdRpSe39_oe",
        "colab_type": "code",
        "colab": {
          "base_uri": "https://localhost:8080/",
          "height": 184
        },
        "outputId": "d3c1b900-e5bb-42c5-a823-e4864a053a46"
      },
      "source": [
        "print(classification_report(y_test,grid_predictions))"
      ],
      "execution_count": 52,
      "outputs": [
        {
          "output_type": "stream",
          "text": [
            "              precision    recall  f1-score   support\n",
            "\n",
            "           0       0.50      0.14      0.22        14\n",
            "           1       0.81      0.74      0.77        34\n",
            "           2       0.76      0.93      0.84        59\n",
            "\n",
            "    accuracy                           0.77       107\n",
            "   macro avg       0.69      0.60      0.61       107\n",
            "weighted avg       0.74      0.77      0.74       107\n",
            "\n"
          ],
          "name": "stdout"
        }
      ]
    },
    {
      "cell_type": "code",
      "metadata": {
        "id": "Xx9qREtz-DWW",
        "colab_type": "code",
        "colab": {}
      },
      "source": [
        "#Using DecisionTreeClassifier\n",
        "\n",
        "from sklearn.tree import DecisionTreeClassifier\n",
        "\n",
        "dtree = DecisionTreeClassifier(criterion='gini',max_depth=9)\n",
        "\n"
      ],
      "execution_count": 53,
      "outputs": []
    },
    {
      "cell_type": "code",
      "metadata": {
        "id": "g0hAdqe3_EIp",
        "colab_type": "code",
        "colab": {
          "base_uri": "https://localhost:8080/",
          "height": 117
        },
        "outputId": "df1a2976-0e7f-4fe3-b6d4-fd4cf8181f82"
      },
      "source": [
        "dtree.fit(X_train,y_train)"
      ],
      "execution_count": 54,
      "outputs": [
        {
          "output_type": "execute_result",
          "data": {
            "text/plain": [
              "DecisionTreeClassifier(ccp_alpha=0.0, class_weight=None, criterion='gini',\n",
              "                       max_depth=9, max_features=None, max_leaf_nodes=None,\n",
              "                       min_impurity_decrease=0.0, min_impurity_split=None,\n",
              "                       min_samples_leaf=1, min_samples_split=2,\n",
              "                       min_weight_fraction_leaf=0.0, presort='deprecated',\n",
              "                       random_state=None, splitter='best')"
            ]
          },
          "metadata": {
            "tags": []
          },
          "execution_count": 54
        }
      ]
    },
    {
      "cell_type": "code",
      "metadata": {
        "id": "W75CDEDh_L20",
        "colab_type": "code",
        "colab": {}
      },
      "source": [
        "predictions = dtree.predict(X_test)"
      ],
      "execution_count": 55,
      "outputs": []
    },
    {
      "cell_type": "code",
      "metadata": {
        "id": "lRD_vy6y_Ots",
        "colab_type": "code",
        "colab": {}
      },
      "source": [
        "from sklearn.metrics import classification_report,confusion_matrix"
      ],
      "execution_count": 56,
      "outputs": []
    },
    {
      "cell_type": "code",
      "metadata": {
        "id": "wP1fHSCb_Q-j",
        "colab_type": "code",
        "colab": {
          "base_uri": "https://localhost:8080/",
          "height": 184
        },
        "outputId": "ac4f904c-4aed-436f-b80e-9f384d64784c"
      },
      "source": [
        "print(classification_report(y_test,predictions))"
      ],
      "execution_count": 57,
      "outputs": [
        {
          "output_type": "stream",
          "text": [
            "              precision    recall  f1-score   support\n",
            "\n",
            "           0       0.30      0.21      0.25        14\n",
            "           1       0.81      0.88      0.85        34\n",
            "           2       0.93      0.95      0.94        59\n",
            "\n",
            "    accuracy                           0.83       107\n",
            "   macro avg       0.68      0.68      0.68       107\n",
            "weighted avg       0.81      0.83      0.82       107\n",
            "\n"
          ],
          "name": "stdout"
        }
      ]
    },
    {
      "cell_type": "code",
      "metadata": {
        "id": "h9d7xtOT_TR0",
        "colab_type": "code",
        "colab": {
          "base_uri": "https://localhost:8080/",
          "height": 84
        },
        "outputId": "c98d468e-d279-40b5-8f0a-1d42dbbc13a7"
      },
      "source": [
        "cm=confusion_matrix(y_test,predictions)\n",
        "print(cm)\n",
        "print (\"Accuracy of prediction:\",round((cm[0,0]+cm[1,1])/cm.sum(),3))"
      ],
      "execution_count": 58,
      "outputs": [
        {
          "output_type": "stream",
          "text": [
            "[[ 3  7  4]\n",
            " [ 4 30  0]\n",
            " [ 3  0 56]]\n",
            "Accuracy of prediction: 0.308\n"
          ],
          "name": "stdout"
        }
      ]
    },
    {
      "cell_type": "code",
      "metadata": {
        "id": "u7PjFXwT_XcE",
        "colab_type": "code",
        "colab": {}
      },
      "source": [
        "#Using RandomForestRegressor\n",
        "from sklearn.ensemble import RandomForestClassifier\n",
        "rfc = RandomForestClassifier(n_estimators=100)"
      ],
      "execution_count": 59,
      "outputs": []
    },
    {
      "cell_type": "code",
      "metadata": {
        "id": "qalyj9cl_ayz",
        "colab_type": "code",
        "colab": {
          "base_uri": "https://localhost:8080/",
          "height": 150
        },
        "outputId": "101640a7-c8fb-41f1-8d08-6f5f3c68ed67"
      },
      "source": [
        "rfc.fit(X_train, y_train)"
      ],
      "execution_count": 60,
      "outputs": [
        {
          "output_type": "execute_result",
          "data": {
            "text/plain": [
              "RandomForestClassifier(bootstrap=True, ccp_alpha=0.0, class_weight=None,\n",
              "                       criterion='gini', max_depth=None, max_features='auto',\n",
              "                       max_leaf_nodes=None, max_samples=None,\n",
              "                       min_impurity_decrease=0.0, min_impurity_split=None,\n",
              "                       min_samples_leaf=1, min_samples_split=2,\n",
              "                       min_weight_fraction_leaf=0.0, n_estimators=100,\n",
              "                       n_jobs=None, oob_score=False, random_state=None,\n",
              "                       verbose=0, warm_start=False)"
            ]
          },
          "metadata": {
            "tags": []
          },
          "execution_count": 60
        }
      ]
    },
    {
      "cell_type": "code",
      "metadata": {
        "id": "NNEoxlp5_dS2",
        "colab_type": "code",
        "colab": {}
      },
      "source": [
        "rfc_pred = rfc.predict(X_test)"
      ],
      "execution_count": 61,
      "outputs": []
    },
    {
      "cell_type": "code",
      "metadata": {
        "id": "TyL2ic4R_hX8",
        "colab_type": "code",
        "colab": {}
      },
      "source": [
        "cr = classification_report(y_test,predictions)"
      ],
      "execution_count": 62,
      "outputs": []
    },
    {
      "cell_type": "code",
      "metadata": {
        "id": "0QPgIuz8_kVk",
        "colab_type": "code",
        "colab": {
          "base_uri": "https://localhost:8080/",
          "height": 184
        },
        "outputId": "b4f06c95-9d73-4c5b-d710-0afbc11370c7"
      },
      "source": [
        "print(cr)"
      ],
      "execution_count": 63,
      "outputs": [
        {
          "output_type": "stream",
          "text": [
            "              precision    recall  f1-score   support\n",
            "\n",
            "           0       0.30      0.21      0.25        14\n",
            "           1       0.81      0.88      0.85        34\n",
            "           2       0.93      0.95      0.94        59\n",
            "\n",
            "    accuracy                           0.83       107\n",
            "   macro avg       0.68      0.68      0.68       107\n",
            "weighted avg       0.81      0.83      0.82       107\n",
            "\n"
          ],
          "name": "stdout"
        }
      ]
    },
    {
      "cell_type": "code",
      "metadata": {
        "id": "ElzZIF7N_mqe",
        "colab_type": "code",
        "colab": {}
      },
      "source": [
        "#Using XGBboost Classifier"
      ],
      "execution_count": 64,
      "outputs": []
    },
    {
      "cell_type": "code",
      "metadata": {
        "id": "FlFi8Yec_pl-",
        "colab_type": "code",
        "colab": {}
      },
      "source": [
        "from xgboost import XGBClassifier\n",
        "from sklearn.model_selection import train_test_split\n",
        "from sklearn.metrics import accuracy_score"
      ],
      "execution_count": 65,
      "outputs": []
    },
    {
      "cell_type": "code",
      "metadata": {
        "id": "iYACFd3Y_s0N",
        "colab_type": "code",
        "colab": {
          "base_uri": "https://localhost:8080/",
          "height": 134
        },
        "outputId": "4f115450-fc77-46b1-95b8-712669cb8837"
      },
      "source": [
        "model = XGBClassifier()\n",
        "model.fit(X_train, y_train)\n"
      ],
      "execution_count": 66,
      "outputs": [
        {
          "output_type": "execute_result",
          "data": {
            "text/plain": [
              "XGBClassifier(base_score=0.5, booster='gbtree', colsample_bylevel=1,\n",
              "              colsample_bynode=1, colsample_bytree=1, gamma=0,\n",
              "              learning_rate=0.1, max_delta_step=0, max_depth=3,\n",
              "              min_child_weight=1, missing=None, n_estimators=100, n_jobs=1,\n",
              "              nthread=None, objective='multi:softprob', random_state=0,\n",
              "              reg_alpha=0, reg_lambda=1, scale_pos_weight=1, seed=None,\n",
              "              silent=None, subsample=1, verbosity=1)"
            ]
          },
          "metadata": {
            "tags": []
          },
          "execution_count": 66
        }
      ]
    },
    {
      "cell_type": "code",
      "metadata": {
        "id": "jIrFij-p_vv-",
        "colab_type": "code",
        "colab": {}
      },
      "source": [
        "# make predictions for test data\n",
        "y_pred = model.predict(X_test)\n",
        "predictions = [round(value) for value in y_pred]\n",
        "# make predictions for test data\n",
        "y_pred = model.predict(X_test)\n",
        "predictions = [round(value) for value in y_pred]"
      ],
      "execution_count": 67,
      "outputs": []
    },
    {
      "cell_type": "code",
      "metadata": {
        "id": "tCvMWPMf_zi8",
        "colab_type": "code",
        "colab": {
          "base_uri": "https://localhost:8080/",
          "height": 33
        },
        "outputId": "ab32b141-0eef-4ab3-a3ee-118fa79e9423"
      },
      "source": [
        "# evaluate predictions\n",
        "accuracy = accuracy_score(y_test, predictions)\n",
        "print(\"Accuracy: %.2f%%\" % (accuracy * 100.0))"
      ],
      "execution_count": 68,
      "outputs": [
        {
          "output_type": "stream",
          "text": [
            "Accuracy: 86.92%\n"
          ],
          "name": "stdout"
        }
      ]
    },
    {
      "cell_type": "code",
      "metadata": {
        "id": "BQvEc6gr_2H0",
        "colab_type": "code",
        "colab": {}
      },
      "source": [
        "#Models performance Analysis with scaling(standard Scaler)"
      ],
      "execution_count": 69,
      "outputs": []
    },
    {
      "cell_type": "code",
      "metadata": {
        "id": "2ZNP5VYt_4w9",
        "colab_type": "code",
        "colab": {}
      },
      "source": [
        "from sklearn.linear_model import LogisticRegression\n",
        "from sklearn.metrics import accuracy_score\n",
        "from sklearn.preprocessing import StandardScaler\n",
        "sc=StandardScaler()\n",
        "list_models=[]\n",
        "list_scores=[]\n",
        "x_train=sc.fit_transform(X_train)\n",
        "lr=LogisticRegression(max_iter=10000)\n",
        "lr.fit(X_train,y_train)\n",
        "pred_1=lr.predict(sc.transform(X_test))\n",
        "score_1=accuracy_score(y_test,pred_1)\n",
        "list_scores.append(score_1)\n",
        "list_models.append('LogisticRegression')"
      ],
      "execution_count": 70,
      "outputs": []
    },
    {
      "cell_type": "code",
      "metadata": {
        "id": "2tTotTq9_7cl",
        "colab_type": "code",
        "colab": {
          "base_uri": "https://localhost:8080/",
          "height": 33
        },
        "outputId": "3fabada4-c583-4a7d-972d-1480e045c950"
      },
      "source": [
        "score_1"
      ],
      "execution_count": 71,
      "outputs": [
        {
          "output_type": "execute_result",
          "data": {
            "text/plain": [
              "0.8598130841121495"
            ]
          },
          "metadata": {
            "tags": []
          },
          "execution_count": 71
        }
      ]
    },
    {
      "cell_type": "code",
      "metadata": {
        "id": "DG5PReKg_91t",
        "colab_type": "code",
        "colab": {}
      },
      "source": [
        "from sklearn.neighbors import KNeighborsClassifier\n",
        "list_1=[]\n",
        "for i in range(1,11):\n",
        "    knn=KNeighborsClassifier(n_neighbors=i)\n",
        "    knn.fit(x_train,y_train)\n",
        "    preds=knn.predict(sc.transform(X_test))\n",
        "    scores=accuracy_score(y_test,preds)\n",
        "    list_1.append(scores)\n",
        "    "
      ],
      "execution_count": 72,
      "outputs": []
    },
    {
      "cell_type": "code",
      "metadata": {
        "id": "fp84RcB6ABX1",
        "colab_type": "code",
        "colab": {
          "base_uri": "https://localhost:8080/",
          "height": 281
        },
        "outputId": "d6efe7b6-4fab-49ac-e503-30efad2cd21f"
      },
      "source": [
        "sns.lineplot(x=list(range(1,11)),y=list_1)"
      ],
      "execution_count": 73,
      "outputs": [
        {
          "output_type": "execute_result",
          "data": {
            "text/plain": [
              "<matplotlib.axes._subplots.AxesSubplot at 0x7fd87eb43518>"
            ]
          },
          "metadata": {
            "tags": []
          },
          "execution_count": 73
        },
        {
          "output_type": "display_data",
          "data": {
            "image/png": "[encoded data removed]",
            "text/plain": [
              "<Figure size 432x288 with 1 Axes>"
            ]
          },
          "metadata": {
            "tags": [],
            "needs_background": "light"
          }
        }
      ]
    },
    {
      "cell_type": "code",
      "metadata": {
        "id": "GYumSUmiAEQc",
        "colab_type": "code",
        "colab": {}
      },
      "source": [
        "list_scores.append(max(list_1))\n",
        "list_models.append('KNeighbors Classifier')"
      ],
      "execution_count": 74,
      "outputs": []
    },
    {
      "cell_type": "code",
      "metadata": {
        "id": "kvOeC8WoAG5k",
        "colab_type": "code",
        "colab": {
          "base_uri": "https://localhost:8080/",
          "height": 33
        },
        "outputId": "6f59022d-b7e8-40a4-f309-829a68c7df8a"
      },
      "source": [
        "print(max(list_1))"
      ],
      "execution_count": 75,
      "outputs": [
        {
          "output_type": "stream",
          "text": [
            "0.8691588785046729\n"
          ],
          "name": "stdout"
        }
      ]
    },
    {
      "cell_type": "code",
      "metadata": {
        "id": "hd7_3fmlAJZ0",
        "colab_type": "code",
        "colab": {}
      },
      "source": [
        "#2nd method for Random forest"
      ],
      "execution_count": 76,
      "outputs": []
    },
    {
      "cell_type": "code",
      "metadata": {
        "id": "2tj8miU8AL8d",
        "colab_type": "code",
        "colab": {}
      },
      "source": [
        "from sklearn.ensemble import RandomForestClassifier\n",
        "rfc=RandomForestClassifier()\n",
        "rfc.fit(x_train,y_train)\n",
        "pred_2=rfc.predict(sc.transform(X_test))\n",
        "score_2=accuracy_score(y_test,pred_2)\n",
        "list_models.append('Randomforest Classifier')\n",
        "list_scores.append(score_2)"
      ],
      "execution_count": 77,
      "outputs": []
    },
    {
      "cell_type": "code",
      "metadata": {
        "id": "mcylZjA5AOP8",
        "colab_type": "code",
        "colab": {
          "base_uri": "https://localhost:8080/",
          "height": 33
        },
        "outputId": "82d1d3c9-21f2-48ae-8b8a-6b60ca814b72"
      },
      "source": [
        "score_2"
      ],
      "execution_count": 78,
      "outputs": [
        {
          "output_type": "execute_result",
          "data": {
            "text/plain": [
              "0.8878504672897196"
            ]
          },
          "metadata": {
            "tags": []
          },
          "execution_count": 78
        }
      ]
    },
    {
      "cell_type": "code",
      "metadata": {
        "id": "uiB-ciRlAQ58",
        "colab_type": "code",
        "colab": {}
      },
      "source": [
        "#2nd method for SVM"
      ],
      "execution_count": 79,
      "outputs": []
    },
    {
      "cell_type": "code",
      "metadata": {
        "id": "Pg2RmnfGAT33",
        "colab_type": "code",
        "colab": {}
      },
      "source": [
        "from sklearn.svm import SVC\n",
        "svm=SVC()\n",
        "svm.fit(x_train,y_train)\n",
        "pred_3=svm.predict(sc.transform(X_test))\n",
        "score_3=accuracy_score(y_test,pred_3)\n",
        "list_scores.append(score_3)\n",
        "list_models.append('Support vector machines')"
      ],
      "execution_count": 80,
      "outputs": []
    },
    {
      "cell_type": "code",
      "metadata": {
        "id": "LrX_GE2SAXJX",
        "colab_type": "code",
        "colab": {
          "base_uri": "https://localhost:8080/",
          "height": 33
        },
        "outputId": "aec84b84-33b6-47c7-fb02-c02397de9121"
      },
      "source": [
        "score_3"
      ],
      "execution_count": 81,
      "outputs": [
        {
          "output_type": "execute_result",
          "data": {
            "text/plain": [
              "0.8785046728971962"
            ]
          },
          "metadata": {
            "tags": []
          },
          "execution_count": 81
        }
      ]
    },
    {
      "cell_type": "code",
      "metadata": {
        "id": "q-pdU3tfAaW8",
        "colab_type": "code",
        "colab": {}
      },
      "source": [
        "#2nd method for XGB"
      ],
      "execution_count": 82,
      "outputs": []
    },
    {
      "cell_type": "code",
      "metadata": {
        "id": "dtBFjqIrAdDE",
        "colab_type": "code",
        "colab": {}
      },
      "source": [
        "from xgboost import XGBClassifier\n",
        "xgb=XGBClassifier()\n",
        "xgb.fit(x_train,y_train)\n",
        "pred_4=xgb.predict(sc.transform(X_test))\n",
        "score_4=accuracy_score(y_test,pred_4)\n",
        "list_models.append('XGboost')\n",
        "list_scores.append(score_4)"
      ],
      "execution_count": 83,
      "outputs": []
    },
    {
      "cell_type": "code",
      "metadata": {
        "id": "kZ3hQJqfAfml",
        "colab_type": "code",
        "colab": {
          "base_uri": "https://localhost:8080/",
          "height": 33
        },
        "outputId": "2908355d-d643-47b7-c277-13ca76b1ac7f"
      },
      "source": [
        "score_4"
      ],
      "execution_count": 84,
      "outputs": [
        {
          "output_type": "execute_result",
          "data": {
            "text/plain": [
              "0.8691588785046729"
            ]
          },
          "metadata": {
            "tags": []
          },
          "execution_count": 84
        }
      ]
    },
    {
      "cell_type": "code",
      "metadata": {
        "id": "iH5LQ2LfAjOV",
        "colab_type": "code",
        "colab": {
          "base_uri": "https://localhost:8080/",
          "height": 334
        },
        "outputId": "f414a7eb-0e75-4463-ca9e-85a64e2526ba"
      },
      "source": [
        "plt.figure(figsize=(12,5))\n",
        "plt.bar(list_models,list_scores)\n",
        "plt.xlabel('classifiers')\n",
        "plt.ylabel('accuracy scores')\n",
        "plt.show()"
      ],
      "execution_count": 85,
      "outputs": [
        {
          "output_type": "display_data",
          "data": {
            "image/png": "[encoded data removed]",
            "text/plain": [
              "<Figure size 864x360 with 1 Axes>"
            ]
          },
          "metadata": {
            "tags": [],
            "needs_background": "light"
          }
        }
      ]
    },
    {
      "cell_type": "code",
      "metadata": {
        "id": "3tg5n4QgEVUM",
        "colab_type": "code",
        "colab": {}
      },
      "source": [
        "#ANN"
      ],
      "execution_count": 86,
      "outputs": []
    },
    {
      "cell_type": "code",
      "metadata": {
        "id": "2DVMIWrIMx_a",
        "colab_type": "code",
        "colab": {}
      },
      "source": [
        "import keras\n",
        "import numpy\n",
        "import pandas\n",
        "from keras.models import Sequential\n",
        "from keras.layers import Dense\n",
        "from keras.wrappers.scikit_learn import KerasClassifier\n",
        "from sklearn.model_selection import cross_val_score\n",
        "from sklearn.preprocessing import LabelEncoder\n",
        "from sklearn.model_selection import StratifiedKFold\n",
        "from sklearn.preprocessing import StandardScaler\n",
        "from sklearn.pipeline import Pipeline\n",
        "import numpy as np\n",
        "import matplotlib.pyplot as plt\n",
        "import pandas as pd"
      ],
      "execution_count": 87,
      "outputs": []
    },
    {
      "cell_type": "code",
      "metadata": {
        "id": "G4J7ptyXM0ga",
        "colab_type": "code",
        "colab": {
          "base_uri": "https://localhost:8080/",
          "height": 134
        },
        "outputId": "d319d580-f61d-48b1-a357-4382b67a433d"
      },
      "source": [
        "X = df.iloc[:, 1:10].values\n",
        "y = df.iloc[:, 10].values\n",
        "X"
      ],
      "execution_count": 88,
      "outputs": [
        {
          "output_type": "execute_result",
          "data": {
            "text/plain": [
              "array([[  1,  27,   5, ..., 274,  35,   1],\n",
              "       [  1,  28,   5, ..., 275,  20,   0],\n",
              "       [  0,  28,   9, ...,  13,  48, 242],\n",
              "       ...,\n",
              "       [  0,   1,   4, ...,  47, 125, 209],\n",
              "       [  0,   3,   4, ...,  52, 123, 205],\n",
              "       [  0,   5,   4, ...,  56, 125, 202]])"
            ]
          },
          "metadata": {
            "tags": []
          },
          "execution_count": 88
        }
      ]
    },
    {
      "cell_type": "code",
      "metadata": {
        "id": "sMcdppvoM6H5",
        "colab_type": "code",
        "colab": {
          "base_uri": "https://localhost:8080/",
          "height": 301
        },
        "outputId": "98864f58-da42-4bc8-e8b8-1fbc9438b681"
      },
      "source": [
        "y"
      ],
      "execution_count": 89,
      "outputs": [
        {
          "output_type": "execute_result",
          "data": {
            "text/plain": [
              "array([2, 2, 2, 2, 2, 2, 2, 2, 2, 1, 1, 1, 1, 2, 2, 2, 2, 2, 2, 1, 1, 1,\n",
              "       1, 2, 2, 2, 2, 0, 0, 0, 0, 0, 0, 1, 1, 2, 2, 1, 1, 1, 1, 2, 2, 2,\n",
              "       2, 1, 1, 2, 2, 2, 2, 0, 0, 0, 1, 1, 2, 2, 2, 2, 2, 2, 2, 2, 2, 2,\n",
              "       1, 1, 1, 1, 1, 1, 1, 1, 1, 0, 0, 0, 2, 2, 1, 1, 1, 1, 1, 2, 2, 1,\n",
              "       1, 2, 2, 1, 1, 1, 1, 1, 2, 2, 2, 1, 1, 2, 2, 2, 2, 2, 2, 2, 0, 0,\n",
              "       2, 2, 2, 2, 2, 2, 2, 1, 1, 1, 1, 1, 2, 2, 2, 2, 2, 2, 1, 1, 1, 1,\n",
              "       1, 2, 2, 2, 2, 2, 2, 2, 2, 2, 2, 2, 2, 2, 1, 1, 2, 2, 2, 2, 2, 1,\n",
              "       1, 2, 2, 2, 2, 2, 2, 2, 2, 1, 1, 1, 1, 1, 1, 1, 1, 2, 2, 2, 2, 1,\n",
              "       1, 1, 1, 1, 1, 2, 2, 2, 2, 2, 0, 0, 2, 2, 2, 2, 2, 2, 2, 2, 2, 1,\n",
              "       1, 2, 2, 2, 2, 2, 2, 1, 1, 1, 0, 0, 0, 1, 1, 2, 2, 1, 1, 1, 1, 2,\n",
              "       2, 1, 1, 1, 1, 1, 1, 1, 1, 2, 2, 2, 2, 0, 0, 2, 2, 2, 1, 1, 2, 2,\n",
              "       2, 2, 1, 1, 2, 2, 2, 0, 0, 0, 0, 0, 2, 2, 2, 2, 2, 0, 0, 0, 0, 1,\n",
              "       1, 2, 2, 1, 1, 2, 2, 1, 1, 1, 1, 1, 2, 2, 2, 2, 2, 2, 2, 0, 0, 0,\n",
              "       0, 1, 1, 2, 2, 2, 2, 2, 2, 1, 1, 2, 2, 2, 2, 2, 2, 2, 1, 1, 2, 2,\n",
              "       1, 1, 2, 2, 2, 1, 1, 1, 1, 1, 1, 2, 2, 2, 2, 2, 1, 1, 2, 2, 2, 1,\n",
              "       1, 1, 0, 0, 0, 2, 2, 2, 2, 2, 1, 1, 2, 2, 2, 2, 1, 1, 1, 1, 1, 2,\n",
              "       2, 2])"
            ]
          },
          "metadata": {
            "tags": []
          },
          "execution_count": 89
        }
      ]
    },
    {
      "cell_type": "code",
      "metadata": {
        "id": "_auAOfrdM7s6",
        "colab_type": "code",
        "colab": {}
      },
      "source": [
        "#Deep Learning Baseline Model-Using Buildin Function"
      ],
      "execution_count": 90,
      "outputs": []
    },
    {
      "cell_type": "code",
      "metadata": {
        "id": "I1vFVEAfNA16",
        "colab_type": "code",
        "colab": {}
      },
      "source": [
        "def create_baseline():\n",
        "# create model\n",
        "    model = Sequential()\n",
        "    model.add(Dense(64, input_dim=9, kernel_initializer='normal', activation='relu'))\n",
        "    model.add(Dense(64, kernel_initializer='normal', activation='relu'))\n",
        "    model.add(Dense(3, kernel_initializer='normal', activation='softmax'))\n",
        "    # Compile model\n",
        "    model.compile(loss='categorical_crossentropy', optimizer='adam', metrics=['accuracy'])\n",
        "    return model"
      ],
      "execution_count": 91,
      "outputs": []
    },
    {
      "cell_type": "code",
      "metadata": {
        "id": "Jg8-OClgNV9B",
        "colab_type": "code",
        "colab": {
          "base_uri": "https://localhost:8080/",
          "height": 1000
        },
        "outputId": "97217c38-ad28-4f8c-cd18-6c1674c6b51a"
      },
      "source": [
        "seed = 7\n",
        "numpy.random.seed(seed)\n",
        "# evaluate model with standardized dataset\n",
        "estimator = KerasClassifier(build_fn=create_baseline, epochs=20, batch_size=5, verbose=1)\n",
        "kfold = StratifiedKFold(n_splits=5, shuffle=True, random_state=seed)\n",
        "results = cross_val_score(estimator, X, y, cv=kfold)\n",
        "print(\"Results: %.2f%% (%.2f%%)\" % (results.mean()*100, results.std()*100))"
      ],
      "execution_count": 92,
      "outputs": [
        {
          "output_type": "stream",
          "text": [
            "Epoch 1/20\n",
            "57/57 [==============================] - 0s 1ms/step - loss: 0.9959 - accuracy: 0.5124\n",
            "Epoch 2/20\n",
            "57/57 [==============================] - 0s 1ms/step - loss: 0.9062 - accuracy: 0.6078\n",
            "Epoch 3/20\n",
            "57/57 [==============================] - 0s 1ms/step - loss: 0.8629 - accuracy: 0.6148\n",
            "Epoch 4/20\n",
            "57/57 [==============================] - 0s 1ms/step - loss: 0.8379 - accuracy: 0.6643\n",
            "Epoch 5/20\n",
            "57/57 [==============================] - 0s 1ms/step - loss: 0.7835 - accuracy: 0.6678\n",
            "Epoch 6/20\n",
            "57/57 [==============================] - 0s 1ms/step - loss: 0.6992 - accuracy: 0.7173\n",
            "Epoch 7/20\n",
            "57/57 [==============================] - 0s 1ms/step - loss: 0.6838 - accuracy: 0.7633\n",
            "Epoch 8/20\n",
            "57/57 [==============================] - 0s 1ms/step - loss: 0.6285 - accuracy: 0.7703\n",
            "Epoch 9/20\n",
            "57/57 [==============================] - 0s 1ms/step - loss: 0.6529 - accuracy: 0.7633\n",
            "Epoch 10/20\n",
            "57/57 [==============================] - 0s 1ms/step - loss: 0.5758 - accuracy: 0.7774\n",
            "Epoch 11/20\n",
            "57/57 [==============================] - 0s 1ms/step - loss: 0.5151 - accuracy: 0.8057\n",
            "Epoch 12/20\n",
            "57/57 [==============================] - 0s 1ms/step - loss: 0.4723 - accuracy: 0.8198\n",
            "Epoch 13/20\n",
            "57/57 [==============================] - 0s 1ms/step - loss: 0.4492 - accuracy: 0.8339\n",
            "Epoch 14/20\n",
            "57/57 [==============================] - 0s 1ms/step - loss: 0.4798 - accuracy: 0.8127\n",
            "Epoch 15/20\n",
            "57/57 [==============================] - 0s 1ms/step - loss: 0.4697 - accuracy: 0.8127\n",
            "Epoch 16/20\n",
            "57/57 [==============================] - 0s 1ms/step - loss: 0.4664 - accuracy: 0.8057\n",
            "Epoch 17/20\n",
            "57/57 [==============================] - 0s 1ms/step - loss: 0.3973 - accuracy: 0.8410\n",
            "Epoch 18/20\n",
            "57/57 [==============================] - 0s 1ms/step - loss: 0.3681 - accuracy: 0.8587\n",
            "Epoch 19/20\n",
            "57/57 [==============================] - 0s 1ms/step - loss: 0.4163 - accuracy: 0.8587\n",
            "Epoch 20/20\n",
            "57/57 [==============================] - 0s 1ms/step - loss: 0.3516 - accuracy: 0.8728\n",
            "15/15 [==============================] - 0s 1ms/step - loss: 0.4348 - accuracy: 0.8451\n",
            "Epoch 1/20\n",
            "57/57 [==============================] - 0s 1ms/step - loss: 0.9869 - accuracy: 0.5053\n",
            "Epoch 2/20\n",
            "57/57 [==============================] - 0s 1ms/step - loss: 0.9113 - accuracy: 0.5972\n",
            "Epoch 3/20\n",
            "57/57 [==============================] - 0s 1ms/step - loss: 0.8643 - accuracy: 0.6184\n",
            "Epoch 4/20\n",
            "57/57 [==============================] - 0s 1ms/step - loss: 0.8255 - accuracy: 0.6784\n",
            "Epoch 5/20\n",
            "57/57 [==============================] - 0s 1ms/step - loss: 0.8027 - accuracy: 0.6537\n",
            "Epoch 6/20\n",
            "57/57 [==============================] - 0s 1ms/step - loss: 0.7783 - accuracy: 0.6643\n",
            "Epoch 7/20\n",
            "57/57 [==============================] - 0s 1ms/step - loss: 0.7064 - accuracy: 0.7314\n",
            "Epoch 8/20\n",
            "57/57 [==============================] - 0s 1ms/step - loss: 0.6382 - accuracy: 0.7668\n",
            "Epoch 9/20\n",
            "57/57 [==============================] - 0s 1ms/step - loss: 0.6190 - accuracy: 0.7809\n",
            "Epoch 10/20\n",
            "57/57 [==============================] - 0s 1ms/step - loss: 0.5737 - accuracy: 0.7880\n",
            "Epoch 11/20\n",
            "57/57 [==============================] - 0s 1ms/step - loss: 0.5584 - accuracy: 0.7986\n",
            "Epoch 12/20\n",
            "57/57 [==============================] - 0s 1ms/step - loss: 0.5618 - accuracy: 0.7774\n",
            "Epoch 13/20\n",
            "57/57 [==============================] - 0s 1ms/step - loss: 0.5223 - accuracy: 0.8127\n",
            "Epoch 14/20\n",
            "57/57 [==============================] - 0s 1ms/step - loss: 0.4694 - accuracy: 0.8304\n",
            "Epoch 15/20\n",
            "57/57 [==============================] - 0s 1ms/step - loss: 0.4884 - accuracy: 0.8198\n",
            "Epoch 16/20\n",
            "57/57 [==============================] - 0s 1ms/step - loss: 0.4494 - accuracy: 0.8198\n",
            "Epoch 17/20\n",
            "57/57 [==============================] - 0s 1ms/step - loss: 0.4188 - accuracy: 0.8516\n",
            "Epoch 18/20\n",
            "57/57 [==============================] - 0s 1ms/step - loss: 0.3882 - accuracy: 0.8587\n",
            "Epoch 19/20\n",
            "57/57 [==============================] - 0s 1ms/step - loss: 0.3792 - accuracy: 0.8693\n",
            "Epoch 20/20\n",
            "57/57 [==============================] - 0s 998us/step - loss: 0.3533 - accuracy: 0.8693\n",
            "15/15 [==============================] - 0s 1ms/step - loss: 0.5205 - accuracy: 0.8028\n",
            "Epoch 1/20\n",
            "57/57 [==============================] - 0s 1ms/step - loss: 0.9695 - accuracy: 0.5336\n",
            "Epoch 2/20\n",
            "57/57 [==============================] - 0s 1ms/step - loss: 0.8972 - accuracy: 0.6148\n",
            "Epoch 3/20\n",
            "57/57 [==============================] - 0s 1ms/step - loss: 0.8700 - accuracy: 0.6148\n",
            "Epoch 4/20\n",
            "57/57 [==============================] - 0s 1ms/step - loss: 0.8506 - accuracy: 0.6431\n",
            "Epoch 5/20\n",
            "57/57 [==============================] - 0s 1ms/step - loss: 0.8362 - accuracy: 0.6360\n",
            "Epoch 6/20\n",
            "57/57 [==============================] - 0s 1ms/step - loss: 0.8002 - accuracy: 0.6784\n",
            "Epoch 7/20\n",
            "57/57 [==============================] - 0s 1ms/step - loss: 0.7742 - accuracy: 0.6678\n",
            "Epoch 8/20\n",
            "57/57 [==============================] - 0s 1ms/step - loss: 0.7101 - accuracy: 0.6961\n",
            "Epoch 9/20\n",
            "57/57 [==============================] - 0s 1ms/step - loss: 0.7043 - accuracy: 0.6996\n",
            "Epoch 10/20\n",
            "57/57 [==============================] - 0s 1ms/step - loss: 0.6306 - accuracy: 0.7456\n",
            "Epoch 11/20\n",
            "57/57 [==============================] - 0s 1ms/step - loss: 0.5728 - accuracy: 0.7915\n",
            "Epoch 12/20\n",
            "57/57 [==============================] - 0s 1ms/step - loss: 0.6342 - accuracy: 0.7456\n",
            "Epoch 13/20\n",
            "57/57 [==============================] - 0s 1ms/step - loss: 0.5509 - accuracy: 0.7809\n",
            "Epoch 14/20\n",
            "57/57 [==============================] - 0s 1ms/step - loss: 0.5432 - accuracy: 0.7845\n",
            "Epoch 15/20\n",
            "57/57 [==============================] - 0s 1ms/step - loss: 0.4672 - accuracy: 0.8163\n",
            "Epoch 16/20\n",
            "57/57 [==============================] - 0s 1ms/step - loss: 0.4674 - accuracy: 0.8304\n",
            "Epoch 17/20\n",
            "57/57 [==============================] - 0s 1ms/step - loss: 0.5007 - accuracy: 0.8021\n",
            "Epoch 18/20\n",
            "57/57 [==============================] - 0s 1ms/step - loss: 0.4664 - accuracy: 0.8057\n",
            "Epoch 19/20\n",
            "57/57 [==============================] - 0s 1ms/step - loss: 0.4296 - accuracy: 0.8339\n",
            "Epoch 20/20\n",
            "57/57 [==============================] - 0s 1ms/step - loss: 0.3820 - accuracy: 0.8481\n",
            "15/15 [==============================] - 0s 963us/step - loss: 0.3410 - accuracy: 0.9014\n",
            "Epoch 1/20\n",
            "57/57 [==============================] - 0s 1ms/step - loss: 0.9556 - accuracy: 0.5512\n",
            "Epoch 2/20\n",
            "57/57 [==============================] - 0s 1ms/step - loss: 0.8734 - accuracy: 0.6184\n",
            "Epoch 3/20\n",
            "57/57 [==============================] - 0s 1ms/step - loss: 0.8572 - accuracy: 0.6219\n",
            "Epoch 4/20\n",
            "57/57 [==============================] - 0s 1ms/step - loss: 0.8347 - accuracy: 0.6502\n",
            "Epoch 5/20\n",
            "57/57 [==============================] - 0s 1ms/step - loss: 0.7642 - accuracy: 0.7032\n",
            "Epoch 6/20\n",
            "57/57 [==============================] - 0s 1ms/step - loss: 0.7046 - accuracy: 0.7279\n",
            "Epoch 7/20\n",
            "57/57 [==============================] - 0s 1ms/step - loss: 0.6954 - accuracy: 0.6890\n",
            "Epoch 8/20\n",
            "57/57 [==============================] - 0s 1ms/step - loss: 0.6417 - accuracy: 0.7385\n",
            "Epoch 9/20\n",
            "57/57 [==============================] - 0s 1ms/step - loss: 0.6701 - accuracy: 0.7102\n",
            "Epoch 10/20\n",
            "57/57 [==============================] - 0s 1ms/step - loss: 0.6534 - accuracy: 0.7420\n",
            "Epoch 11/20\n",
            "57/57 [==============================] - 0s 1ms/step - loss: 0.6013 - accuracy: 0.7739\n",
            "Epoch 12/20\n",
            "57/57 [==============================] - 0s 1ms/step - loss: 0.4982 - accuracy: 0.8092\n",
            "Epoch 13/20\n",
            "57/57 [==============================] - 0s 1ms/step - loss: 0.4570 - accuracy: 0.8163\n",
            "Epoch 14/20\n",
            "57/57 [==============================] - 0s 1ms/step - loss: 0.5024 - accuracy: 0.8092\n",
            "Epoch 15/20\n",
            "57/57 [==============================] - 0s 1ms/step - loss: 0.4143 - accuracy: 0.8445\n",
            "Epoch 16/20\n",
            "57/57 [==============================] - 0s 1ms/step - loss: 0.3961 - accuracy: 0.8516\n",
            "Epoch 17/20\n",
            "57/57 [==============================] - 0s 1ms/step - loss: 0.4079 - accuracy: 0.8516\n",
            "Epoch 18/20\n",
            "57/57 [==============================] - 0s 1ms/step - loss: 0.3404 - accuracy: 0.8834\n",
            "Epoch 19/20\n",
            "57/57 [==============================] - 0s 1ms/step - loss: 0.3930 - accuracy: 0.8410\n",
            "Epoch 20/20\n",
            "57/57 [==============================] - 0s 1ms/step - loss: 0.3491 - accuracy: 0.8728\n",
            "15/15 [==============================] - 0s 959us/step - loss: 0.3833 - accuracy: 0.8732\n",
            "Epoch 1/20\n",
            "57/57 [==============================] - 0s 1ms/step - loss: 0.9525 - accuracy: 0.5106\n",
            "Epoch 2/20\n",
            "57/57 [==============================] - 0s 1ms/step - loss: 0.9254 - accuracy: 0.6127\n",
            "Epoch 3/20\n",
            "57/57 [==============================] - 0s 1ms/step - loss: 0.8752 - accuracy: 0.5986\n",
            "Epoch 4/20\n",
            "57/57 [==============================] - 0s 1ms/step - loss: 0.8487 - accuracy: 0.6162\n",
            "Epoch 5/20\n",
            "57/57 [==============================] - 0s 1ms/step - loss: 0.8350 - accuracy: 0.6408\n",
            "Epoch 6/20\n",
            "57/57 [==============================] - 0s 1ms/step - loss: 0.8012 - accuracy: 0.6514\n",
            "Epoch 7/20\n",
            "57/57 [==============================] - 0s 1ms/step - loss: 0.7768 - accuracy: 0.6373\n",
            "Epoch 8/20\n",
            "57/57 [==============================] - 0s 1ms/step - loss: 0.7340 - accuracy: 0.6937\n",
            "Epoch 9/20\n",
            "57/57 [==============================] - 0s 1ms/step - loss: 0.6713 - accuracy: 0.7465\n",
            "Epoch 10/20\n",
            "57/57 [==============================] - 0s 1ms/step - loss: 0.6565 - accuracy: 0.7289\n",
            "Epoch 11/20\n",
            "57/57 [==============================] - 0s 1ms/step - loss: 0.6318 - accuracy: 0.7606\n",
            "Epoch 12/20\n",
            "57/57 [==============================] - 0s 1ms/step - loss: 0.5915 - accuracy: 0.7817\n",
            "Epoch 13/20\n",
            "57/57 [==============================] - 0s 1ms/step - loss: 0.6104 - accuracy: 0.7641\n",
            "Epoch 14/20\n",
            "57/57 [==============================] - 0s 1ms/step - loss: 0.5057 - accuracy: 0.8169\n",
            "Epoch 15/20\n",
            "57/57 [==============================] - 0s 1ms/step - loss: 0.4943 - accuracy: 0.8099\n",
            "Epoch 16/20\n",
            "57/57 [==============================] - 0s 1ms/step - loss: 0.4440 - accuracy: 0.8204\n",
            "Epoch 17/20\n",
            "57/57 [==============================] - 0s 1ms/step - loss: 0.4982 - accuracy: 0.8099\n",
            "Epoch 18/20\n",
            "57/57 [==============================] - 0s 1ms/step - loss: 0.4584 - accuracy: 0.8204\n",
            "Epoch 19/20\n",
            "57/57 [==============================] - 0s 1ms/step - loss: 0.3948 - accuracy: 0.8556\n",
            "Epoch 20/20\n",
            "57/57 [==============================] - 0s 1ms/step - loss: 0.3975 - accuracy: 0.8592\n",
            "14/14 [==============================] - 0s 970us/step - loss: 0.3742 - accuracy: 0.8286\n",
            "Results: 85.02% (3.43%)\n"
          ],
          "name": "stdout"
        }
      ]
    }
  ]
}